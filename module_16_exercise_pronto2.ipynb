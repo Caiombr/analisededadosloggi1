{
  "cells": [
    {
      "attachments": {},
      "cell_type": "markdown",
      "metadata": {
        "id": "QRcqbpLpFK5o"
      },
      "source": [
        "# **Análise Exploratória de Dados de Logística**"
      ]
    },
    {
      "attachments": {},
      "cell_type": "markdown",
      "metadata": {
        "id": "6-CvdKwqFPiW"
      },
      "source": [
        "## 1\\. Contexto"
      ]
    },
    {
      "attachments": {},
      "cell_type": "markdown",
      "metadata": {
        "id": "XRURE1uUFXGw"
      },
      "source": [
        "A intenção por trás desse notebook é fazer uma análise exploratória de dados utilizando como base de dados o dataset da empresa Loggi, uma empresa grande de logística aqui do Brasil.\n",
        "\n",
        "Aqui faremos a exploração e uma breve manipulação dos dados para que seja possivel transformar um arquivo json em toda sua complexidade em um DataFrame pandas. "
      ]
    },
    {
      "attachments": {},
      "cell_type": "markdown",
      "metadata": {
        "id": "QxukLHaqFnkU"
      },
      "source": [
        "## 2\\. Pacotes e bibliotecas"
      ]
    },
    {
      "cell_type": "code",
      "execution_count": 1,
      "metadata": {
        "colab": {
          "base_uri": "https://localhost:8080/"
        },
        "id": "tPtx21-qKTLy",
        "outputId": "613826ca-f4d9-405a-cca2-a22b8ed77107"
      },
      "outputs": [
        {
          "name": "stdout",
          "output_type": "stream",
          "text": [
            "Requirement already satisfied: wget in c:\\users\\caiom\\miniconda3\\lib\\site-packages (3.2)\n",
            "Requirement already satisfied: geopandas in c:\\users\\caiom\\miniconda3\\lib\\site-packages (0.12.2)\n",
            "Requirement already satisfied: shapely>=1.7 in c:\\users\\caiom\\miniconda3\\lib\\site-packages (from geopandas) (2.0.1)\n",
            "Requirement already satisfied: pandas>=1.0.0 in c:\\users\\caiom\\miniconda3\\lib\\site-packages (from geopandas) (2.0.0)\n",
            "Requirement already satisfied: pyproj>=2.6.1.post1 in c:\\users\\caiom\\miniconda3\\lib\\site-packages (from geopandas) (3.5.0)\n",
            "Requirement already satisfied: packaging in c:\\users\\caiom\\miniconda3\\lib\\site-packages (from geopandas) (23.0)\n",
            "Requirement already satisfied: fiona>=1.8 in c:\\users\\caiom\\miniconda3\\lib\\site-packages (from geopandas) (1.9.3)\n",
            "Requirement already satisfied: attrs>=19.2.0 in c:\\users\\caiom\\miniconda3\\lib\\site-packages (from fiona>=1.8->geopandas) (23.1.0)\n",
            "Requirement already satisfied: certifi in c:\\users\\caiom\\miniconda3\\lib\\site-packages (from fiona>=1.8->geopandas) (2022.12.7)\n",
            "Requirement already satisfied: cligj>=0.5 in c:\\users\\caiom\\miniconda3\\lib\\site-packages (from fiona>=1.8->geopandas) (0.7.2)\n",
            "Requirement already satisfied: click-plugins>=1.0 in c:\\users\\caiom\\miniconda3\\lib\\site-packages (from fiona>=1.8->geopandas) (1.1.1)\n",
            "Requirement already satisfied: munch>=2.3.2 in c:\\users\\caiom\\miniconda3\\lib\\site-packages (from fiona>=1.8->geopandas) (2.5.0)\n",
            "Requirement already satisfied: click~=8.0 in c:\\users\\caiom\\miniconda3\\lib\\site-packages (from fiona>=1.8->geopandas) (8.1.3)\n",
            "Requirement already satisfied: python-dateutil>=2.8.2 in c:\\users\\caiom\\miniconda3\\lib\\site-packages (from pandas>=1.0.0->geopandas) (2.8.2)\n",
            "Requirement already satisfied: numpy>=1.21.0 in c:\\users\\caiom\\miniconda3\\lib\\site-packages (from pandas>=1.0.0->geopandas) (1.24.2)\n",
            "Requirement already satisfied: tzdata>=2022.1 in c:\\users\\caiom\\miniconda3\\lib\\site-packages (from pandas>=1.0.0->geopandas) (2023.3)\n",
            "Requirement already satisfied: pytz>=2020.1 in c:\\users\\caiom\\miniconda3\\lib\\site-packages (from pandas>=1.0.0->geopandas) (2023.3)\n",
            "Requirement already satisfied: colorama in c:\\users\\caiom\\miniconda3\\lib\\site-packages (from click~=8.0->fiona>=1.8->geopandas) (0.4.6)\n",
            "Requirement already satisfied: six in c:\\users\\caiom\\miniconda3\\lib\\site-packages (from munch>=2.3.2->fiona>=1.8->geopandas) (1.16.0)\n",
            "Requirement already satisfied: geopy in c:\\users\\caiom\\miniconda3\\lib\\site-packages (2.3.0)\n",
            "Requirement already satisfied: geographiclib<3,>=1.52 in c:\\users\\caiom\\miniconda3\\lib\\site-packages (from geopy) (2.0)\n"
          ]
        }
      ],
      "source": [
        "!pip install wget\n",
        "!pip3 install geopandas\n",
        "!pip install geopy"
      ]
    },
    {
      "cell_type": "code",
      "execution_count": 2,
      "metadata": {
        "id": "VXUEW0VrF7XW"
      },
      "outputs": [],
      "source": [
        "import json\n",
        "\n",
        "import wget\n",
        "import pandas as pd\n",
        "import geopy\n",
        "from geopy.geocoders import Nominatim\n",
        "from geopy.extra.rate_limiter import RateLimiter\n",
        "import numpy as np\n",
        "import geopandas\n",
        "import seaborn as sns\n",
        "import matplotlib.pyplot as plt\n",
        "import zipfile"
      ]
    },
    {
      "attachments": {},
      "cell_type": "markdown",
      "metadata": {
        "id": "irQxHW1zGkdZ"
      },
      "source": [
        "## 3\\. Exploração de dados"
      ]
    },
    {
      "cell_type": "code",
      "execution_count": 3,
      "metadata": {
        "id": "z_Gw8Ejh1sJC"
      },
      "outputs": [],
      "source": [
        "# Importação do arquivo .json da Loggi\n",
        "wget.download(\"https://raw.githubusercontent.com/andre-marcos-perez/ebac-course-utils/main/dataset/deliveries.json\")\n",
        "with open('deliveries.json', mode='r', encoding='utf8') as file:\n",
        "  data = json.load(file)"
      ]
    },
    {
      "attachments": {},
      "cell_type": "markdown",
      "metadata": {
        "id": "zU9CW8wUmofO"
      },
      "source": [
        "Na sequência, o próximo passo envolve  verificar a composição desse arquivo json, agora salvo na variavel data. Para isso, foi pego a primeira linha de cada coluna como amostra para melhor compreensão."
      ]
    },
    {
      "cell_type": "code",
      "execution_count": 4,
      "metadata": {
        "id": "WUsNB2J-i6BK"
      },
      "outputs": [
        {
          "data": {
            "text/plain": [
              "199"
            ]
          },
          "execution_count": 4,
          "metadata": {},
          "output_type": "execute_result"
        }
      ],
      "source": [
        "len(data)"
      ]
    },
    {
      "cell_type": "code",
      "execution_count": 5,
      "metadata": {
        "colab": {
          "base_uri": "https://localhost:8080/",
          "height": 523
        },
        "id": "4juGsge0jHT9",
        "outputId": "d3c5cd7d-7d0e-4eb3-e1dc-04f77389fd8e"
      },
      "outputs": [],
      "source": [
        "example = data[0]"
      ]
    },
    {
      "cell_type": "code",
      "execution_count": 6,
      "metadata": {
        "id": "GCVg79kKjlQF"
      },
      "outputs": [
        {
          "data": {
            "text/plain": [
              "'cvrp-2-df-33'"
            ]
          },
          "execution_count": 6,
          "metadata": {},
          "output_type": "execute_result"
        }
      ],
      "source": [
        "example['name']"
      ]
    },
    {
      "cell_type": "code",
      "execution_count": 7,
      "metadata": {
        "id": "Cl0B4vtdmbQg"
      },
      "outputs": [
        {
          "data": {
            "text/plain": [
              "'df-2'"
            ]
          },
          "execution_count": 7,
          "metadata": {},
          "output_type": "execute_result"
        }
      ],
      "source": [
        "example['region']"
      ]
    },
    {
      "cell_type": "code",
      "execution_count": 8,
      "metadata": {
        "id": "H2zbwkfCmbG3"
      },
      "outputs": [
        {
          "data": {
            "text/plain": [
              "{'lng': -48.05498915846707, 'lat': -15.83814451122274}"
            ]
          },
          "execution_count": 8,
          "metadata": {},
          "output_type": "execute_result"
        }
      ],
      "source": [
        "example['origin']"
      ]
    },
    {
      "cell_type": "code",
      "execution_count": 9,
      "metadata": {
        "id": "hTKt7r-8madG"
      },
      "outputs": [
        {
          "data": {
            "text/plain": [
              "-15.83814451122274"
            ]
          },
          "execution_count": 9,
          "metadata": {},
          "output_type": "execute_result"
        }
      ],
      "source": [
        "example['origin']['lat']"
      ]
    },
    {
      "cell_type": "code",
      "execution_count": 10,
      "metadata": {
        "id": "C49zaYmomaMG"
      },
      "outputs": [
        {
          "data": {
            "text/plain": [
              "180"
            ]
          },
          "execution_count": 10,
          "metadata": {},
          "output_type": "execute_result"
        }
      ],
      "source": [
        "example['vehicle_capacity']"
      ]
    },
    {
      "cell_type": "code",
      "execution_count": 11,
      "metadata": {
        "id": "WFTHq7yVmi20"
      },
      "outputs": [
        {
          "data": {
            "text/plain": [
              "-48.11618888384239"
            ]
          },
          "execution_count": 11,
          "metadata": {},
          "output_type": "execute_result"
        }
      ],
      "source": [
        "example['deliveries'][0]['point']['lng']"
      ]
    },
    {
      "attachments": {},
      "cell_type": "markdown",
      "metadata": {
        "id": "ia2Oz2AKnVgO"
      },
      "source": [
        "Sabendo como está configurado o arquivo, transformaremos essa variavel data em um dataframe pandas."
      ]
    },
    {
      "cell_type": "code",
      "execution_count": 12,
      "metadata": {
        "colab": {
          "base_uri": "https://localhost:8080/",
          "height": 423
        },
        "id": "-h2R7tZuje2N",
        "outputId": "d2f41c1e-cab6-4d25-dc1d-1426810a59fb"
      },
      "outputs": [
        {
          "data": {
            "text/html": [
              "<div>\n",
              "<style scoped>\n",
              "    .dataframe tbody tr th:only-of-type {\n",
              "        vertical-align: middle;\n",
              "    }\n",
              "\n",
              "    .dataframe tbody tr th {\n",
              "        vertical-align: top;\n",
              "    }\n",
              "\n",
              "    .dataframe thead th {\n",
              "        text-align: right;\n",
              "    }\n",
              "</style>\n",
              "<table border=\"1\" class=\"dataframe\">\n",
              "  <thead>\n",
              "    <tr style=\"text-align: right;\">\n",
              "      <th></th>\n",
              "      <th>name</th>\n",
              "      <th>region</th>\n",
              "      <th>origin</th>\n",
              "      <th>vehicle_capacity</th>\n",
              "      <th>deliveries</th>\n",
              "    </tr>\n",
              "  </thead>\n",
              "  <tbody>\n",
              "    <tr>\n",
              "      <th>0</th>\n",
              "      <td>cvrp-2-df-33</td>\n",
              "      <td>df-2</td>\n",
              "      <td>{'lng': -48.05498915846707, 'lat': -15.8381445...</td>\n",
              "      <td>180</td>\n",
              "      <td>[{'id': '313483a19d2f8d65cd5024c8d215cfbd', 'p...</td>\n",
              "    </tr>\n",
              "    <tr>\n",
              "      <th>1</th>\n",
              "      <td>cvrp-2-df-73</td>\n",
              "      <td>df-2</td>\n",
              "      <td>{'lng': -48.05498915846707, 'lat': -15.8381445...</td>\n",
              "      <td>180</td>\n",
              "      <td>[{'id': 'bf3fc630b1c29601a4caf1bdd474b85', 'po...</td>\n",
              "    </tr>\n",
              "    <tr>\n",
              "      <th>2</th>\n",
              "      <td>cvrp-2-df-20</td>\n",
              "      <td>df-2</td>\n",
              "      <td>{'lng': -48.05498915846707, 'lat': -15.8381445...</td>\n",
              "      <td>180</td>\n",
              "      <td>[{'id': 'b30f1145a2ba4e0b9ac0162b68d045c3', 'p...</td>\n",
              "    </tr>\n",
              "    <tr>\n",
              "      <th>3</th>\n",
              "      <td>cvrp-1-df-71</td>\n",
              "      <td>df-1</td>\n",
              "      <td>{'lng': -47.89366206897872, 'lat': -15.8051175...</td>\n",
              "      <td>180</td>\n",
              "      <td>[{'id': 'be3ed547394196c12c7c27c89ac74ed6', 'p...</td>\n",
              "    </tr>\n",
              "    <tr>\n",
              "      <th>4</th>\n",
              "      <td>cvrp-2-df-87</td>\n",
              "      <td>df-2</td>\n",
              "      <td>{'lng': -48.05498915846707, 'lat': -15.8381445...</td>\n",
              "      <td>180</td>\n",
              "      <td>[{'id': 'a6328fb4dc0654eb28a996a270b0f6e4', 'p...</td>\n",
              "    </tr>\n",
              "    <tr>\n",
              "      <th>...</th>\n",
              "      <td>...</td>\n",
              "      <td>...</td>\n",
              "      <td>...</td>\n",
              "      <td>...</td>\n",
              "      <td>...</td>\n",
              "    </tr>\n",
              "    <tr>\n",
              "      <th>194</th>\n",
              "      <td>cvrp-1-df-59</td>\n",
              "      <td>df-1</td>\n",
              "      <td>{'lng': -47.89366206897872, 'lat': -15.8051175...</td>\n",
              "      <td>180</td>\n",
              "      <td>[{'id': 'fc800db1942651f8195f870c5930ca26', 'p...</td>\n",
              "    </tr>\n",
              "    <tr>\n",
              "      <th>195</th>\n",
              "      <td>cvrp-0-df-87</td>\n",
              "      <td>df-0</td>\n",
              "      <td>{'lng': -47.802664728268745, 'lat': -15.657013...</td>\n",
              "      <td>180</td>\n",
              "      <td>[{'id': '3d50e820e1c16621e1fa19f1a7df0c56', 'p...</td>\n",
              "    </tr>\n",
              "    <tr>\n",
              "      <th>196</th>\n",
              "      <td>cvrp-1-df-83</td>\n",
              "      <td>df-1</td>\n",
              "      <td>{'lng': -47.89366206897872, 'lat': -15.8051175...</td>\n",
              "      <td>180</td>\n",
              "      <td>[{'id': 'e6cffd090ce2a7bd0e0292f1ed9acd3', 'po...</td>\n",
              "    </tr>\n",
              "    <tr>\n",
              "      <th>197</th>\n",
              "      <td>cvrp-2-df-7</td>\n",
              "      <td>df-2</td>\n",
              "      <td>{'lng': -48.05498915846707, 'lat': -15.8381445...</td>\n",
              "      <td>180</td>\n",
              "      <td>[{'id': '51b1354b02a20d919b83bb664ea4d845', 'p...</td>\n",
              "    </tr>\n",
              "    <tr>\n",
              "      <th>198</th>\n",
              "      <td>cvrp-2-df-62</td>\n",
              "      <td>df-2</td>\n",
              "      <td>{'lng': -48.05498915846707, 'lat': -15.8381445...</td>\n",
              "      <td>180</td>\n",
              "      <td>[{'id': '1a54fdc3c8748ab714841127950e6b3d', 'p...</td>\n",
              "    </tr>\n",
              "  </tbody>\n",
              "</table>\n",
              "<p>199 rows × 5 columns</p>\n",
              "</div>"
            ],
            "text/plain": [
              "             name region                                             origin   \n",
              "0    cvrp-2-df-33   df-2  {'lng': -48.05498915846707, 'lat': -15.8381445...  \\\n",
              "1    cvrp-2-df-73   df-2  {'lng': -48.05498915846707, 'lat': -15.8381445...   \n",
              "2    cvrp-2-df-20   df-2  {'lng': -48.05498915846707, 'lat': -15.8381445...   \n",
              "3    cvrp-1-df-71   df-1  {'lng': -47.89366206897872, 'lat': -15.8051175...   \n",
              "4    cvrp-2-df-87   df-2  {'lng': -48.05498915846707, 'lat': -15.8381445...   \n",
              "..            ...    ...                                                ...   \n",
              "194  cvrp-1-df-59   df-1  {'lng': -47.89366206897872, 'lat': -15.8051175...   \n",
              "195  cvrp-0-df-87   df-0  {'lng': -47.802664728268745, 'lat': -15.657013...   \n",
              "196  cvrp-1-df-83   df-1  {'lng': -47.89366206897872, 'lat': -15.8051175...   \n",
              "197   cvrp-2-df-7   df-2  {'lng': -48.05498915846707, 'lat': -15.8381445...   \n",
              "198  cvrp-2-df-62   df-2  {'lng': -48.05498915846707, 'lat': -15.8381445...   \n",
              "\n",
              "     vehicle_capacity                                         deliveries  \n",
              "0                 180  [{'id': '313483a19d2f8d65cd5024c8d215cfbd', 'p...  \n",
              "1                 180  [{'id': 'bf3fc630b1c29601a4caf1bdd474b85', 'po...  \n",
              "2                 180  [{'id': 'b30f1145a2ba4e0b9ac0162b68d045c3', 'p...  \n",
              "3                 180  [{'id': 'be3ed547394196c12c7c27c89ac74ed6', 'p...  \n",
              "4                 180  [{'id': 'a6328fb4dc0654eb28a996a270b0f6e4', 'p...  \n",
              "..                ...                                                ...  \n",
              "194               180  [{'id': 'fc800db1942651f8195f870c5930ca26', 'p...  \n",
              "195               180  [{'id': '3d50e820e1c16621e1fa19f1a7df0c56', 'p...  \n",
              "196               180  [{'id': 'e6cffd090ce2a7bd0e0292f1ed9acd3', 'po...  \n",
              "197               180  [{'id': '51b1354b02a20d919b83bb664ea4d845', 'p...  \n",
              "198               180  [{'id': '1a54fdc3c8748ab714841127950e6b3d', 'p...  \n",
              "\n",
              "[199 rows x 5 columns]"
            ]
          },
          "execution_count": 12,
          "metadata": {},
          "output_type": "execute_result"
        }
      ],
      "source": [
        "deliveries_df = pd.DataFrame(data)\n",
        "deliveries_df"
      ]
    },
    {
      "attachments": {},
      "cell_type": "markdown",
      "metadata": {
        "id": "vIcEGhdjnmpJ"
      },
      "source": [
        "A primeira coluna a ser verificada foi a origin, pois ela ainda está em json.\n",
        "\n",
        "Então será executado uma sequência de comandos para que as informações de Latitude e Longitude do Hub, padrão universal de geolocalização, fiquem dispostas como dataframe pandas."
      ]
    },
    {
      "cell_type": "code",
      "execution_count": 13,
      "metadata": {
        "id": "Uv6v0a72eoPx"
      },
      "outputs": [],
      "source": [
        "# Esse comando transforma a coluna 'origin' em um dataframe pandas.\n",
        "hub_origin_df = pd.json_normalize(deliveries_df[\"origin\"])\n",
        "\n",
        "# Comando para juntar o dataframe original 'deliveries_df' com o criado no passo anterior.\n",
        "deliveries_df = pd.merge(left=deliveries_df, right=hub_origin_df, how='inner', left_index=True, right_index=True)\n",
        "\n",
        "# Como a coluna 'origin' está em json e seus valores foram somados aos do dataframe original, é preciso deletar o 'origin' em json.\n",
        "deliveries_df = deliveries_df.drop(\"origin\", axis=1)\n",
        "\n",
        "# Reconfigurando o dataframe para a ordem e de disposição e nome das colunas de interesse.\n",
        "deliveries_df = deliveries_df[[\"name\", \"region\", \"lng\", \"lat\", \"vehicle_capacity\", \"deliveries\"]]\n",
        "deliveries_df.rename(columns={\"lng\": \"hub_lng\", \"lat\": \"hub_lat\"}, inplace=True)"
      ]
    },
    {
      "attachments": {},
      "cell_type": "markdown",
      "metadata": {
        "id": "s-A3jq71p0d1"
      },
      "source": [
        "Outra coluna que precisa ser padronizada no padrão do dataframe é a 'deliveries'. Como ela envolve uma lista, pois é referente as entregas de um único chamado e, por isso, possui mais de 1 linha, será preciso quebrar a lista e retirar as informações necessárias."
      ]
    },
    {
      "cell_type": "code",
      "execution_count": 14,
      "metadata": {
        "id": "weydMDo9fQBZ"
      },
      "outputs": [],
      "source": [
        "# O comando explodes retira os elementos da lista, transformam eles em um dataframe.\n",
        "deliveries_exploded_df = deliveries_df[[\"deliveries\"]].explode(\"deliveries\")"
      ]
    },
    {
      "cell_type": "code",
      "execution_count": 15,
      "metadata": {
        "id": "PpnZIOJOq7vr"
      },
      "outputs": [],
      "source": [
        "# Agora será criado um novo dataframe, apenas com os valores de interesse retirados do deliveries_exploded_df (tamanho, latitude e longitude do local de entrega). \n",
        "deliveries_normalized_df = pd.concat([\n",
        "  pd.DataFrame(deliveries_exploded_df[\"deliveries\"].apply(lambda x: x[\"size\"])).rename(columns={\"deliveries\": \"delivery_size\"}),\n",
        "  pd.DataFrame(deliveries_exploded_df[\"deliveries\"].apply(lambda x: x[\"point\"][\"lng\"])).rename(columns={\"deliveries\": \"delivery_lng\"}),\n",
        "  pd.DataFrame(deliveries_exploded_df[\"deliveries\"].apply(lambda x: x[\"point\"][\"lat\"])).rename(columns={\"deliveries\": \"delivery_lat\"}),\n",
        "], axis= 1)\n"
      ]
    },
    {
      "cell_type": "code",
      "execution_count": 16,
      "metadata": {
        "colab": {
          "base_uri": "https://localhost:8080/",
          "height": 206
        },
        "id": "8DN5IK_MfjKk",
        "outputId": "2af28f19-ce9c-4198-95ce-e74cc5b6ff74"
      },
      "outputs": [
        {
          "data": {
            "text/html": [
              "<div>\n",
              "<style scoped>\n",
              "    .dataframe tbody tr th:only-of-type {\n",
              "        vertical-align: middle;\n",
              "    }\n",
              "\n",
              "    .dataframe tbody tr th {\n",
              "        vertical-align: top;\n",
              "    }\n",
              "\n",
              "    .dataframe thead th {\n",
              "        text-align: right;\n",
              "    }\n",
              "</style>\n",
              "<table border=\"1\" class=\"dataframe\">\n",
              "  <thead>\n",
              "    <tr style=\"text-align: right;\">\n",
              "      <th></th>\n",
              "      <th>name</th>\n",
              "      <th>region</th>\n",
              "      <th>hub_lng</th>\n",
              "      <th>hub_lat</th>\n",
              "      <th>vehicle_capacity</th>\n",
              "      <th>delivery_size</th>\n",
              "      <th>delivery_lng</th>\n",
              "      <th>delivery_lat</th>\n",
              "    </tr>\n",
              "  </thead>\n",
              "  <tbody>\n",
              "    <tr>\n",
              "      <th>0</th>\n",
              "      <td>cvrp-2-df-33</td>\n",
              "      <td>df-2</td>\n",
              "      <td>-48.054989</td>\n",
              "      <td>-15.838145</td>\n",
              "      <td>180</td>\n",
              "      <td>9</td>\n",
              "      <td>-48.116189</td>\n",
              "      <td>-15.848929</td>\n",
              "    </tr>\n",
              "    <tr>\n",
              "      <th>1</th>\n",
              "      <td>cvrp-2-df-33</td>\n",
              "      <td>df-2</td>\n",
              "      <td>-48.054989</td>\n",
              "      <td>-15.838145</td>\n",
              "      <td>180</td>\n",
              "      <td>2</td>\n",
              "      <td>-48.118195</td>\n",
              "      <td>-15.850772</td>\n",
              "    </tr>\n",
              "    <tr>\n",
              "      <th>2</th>\n",
              "      <td>cvrp-2-df-33</td>\n",
              "      <td>df-2</td>\n",
              "      <td>-48.054989</td>\n",
              "      <td>-15.838145</td>\n",
              "      <td>180</td>\n",
              "      <td>1</td>\n",
              "      <td>-48.112483</td>\n",
              "      <td>-15.847871</td>\n",
              "    </tr>\n",
              "    <tr>\n",
              "      <th>3</th>\n",
              "      <td>cvrp-2-df-33</td>\n",
              "      <td>df-2</td>\n",
              "      <td>-48.054989</td>\n",
              "      <td>-15.838145</td>\n",
              "      <td>180</td>\n",
              "      <td>2</td>\n",
              "      <td>-48.118023</td>\n",
              "      <td>-15.846471</td>\n",
              "    </tr>\n",
              "    <tr>\n",
              "      <th>4</th>\n",
              "      <td>cvrp-2-df-33</td>\n",
              "      <td>df-2</td>\n",
              "      <td>-48.054989</td>\n",
              "      <td>-15.838145</td>\n",
              "      <td>180</td>\n",
              "      <td>7</td>\n",
              "      <td>-48.114898</td>\n",
              "      <td>-15.858055</td>\n",
              "    </tr>\n",
              "  </tbody>\n",
              "</table>\n",
              "</div>"
            ],
            "text/plain": [
              "           name region    hub_lng    hub_lat  vehicle_capacity  delivery_size   \n",
              "0  cvrp-2-df-33   df-2 -48.054989 -15.838145               180              9  \\\n",
              "1  cvrp-2-df-33   df-2 -48.054989 -15.838145               180              2   \n",
              "2  cvrp-2-df-33   df-2 -48.054989 -15.838145               180              1   \n",
              "3  cvrp-2-df-33   df-2 -48.054989 -15.838145               180              2   \n",
              "4  cvrp-2-df-33   df-2 -48.054989 -15.838145               180              7   \n",
              "\n",
              "   delivery_lng  delivery_lat  \n",
              "0    -48.116189    -15.848929  \n",
              "1    -48.118195    -15.850772  \n",
              "2    -48.112483    -15.847871  \n",
              "3    -48.118023    -15.846471  \n",
              "4    -48.114898    -15.858055  "
            ]
          },
          "execution_count": 16,
          "metadata": {},
          "output_type": "execute_result"
        }
      ],
      "source": [
        "# Então será removida a coluna 'deliveries' do dataframe 'deliveries_df' e incluido as colunas do 'deliveries_normalized_df'.\n",
        "deliveries_df = deliveries_df.drop(\"deliveries\", axis=1)\n",
        "deliveries_df = pd.merge(left=deliveries_df, right=deliveries_normalized_df, how='right', left_index=True, right_index=True)\n",
        "\n",
        "# Comando para resetar o index.\n",
        "deliveries_df.reset_index(inplace=True, drop=True)\n",
        "deliveries_df.head()"
      ]
    },
    {
      "attachments": {},
      "cell_type": "markdown",
      "metadata": {
        "id": "fG1BanonJCDh"
      },
      "source": [
        "Sobre a estrutura do dataframe:"
      ]
    },
    {
      "cell_type": "code",
      "execution_count": 17,
      "metadata": {
        "id": "04nEBhk_JolQ"
      },
      "outputs": [
        {
          "data": {
            "text/plain": [
              "(636149, 8)"
            ]
          },
          "execution_count": 17,
          "metadata": {},
          "output_type": "execute_result"
        }
      ],
      "source": [
        "# Tamanho do dataframe, linhas por colunas\n",
        "deliveries_df.shape"
      ]
    },
    {
      "cell_type": "code",
      "execution_count": 18,
      "metadata": {
        "id": "5QFqh4yeJroP"
      },
      "outputs": [
        {
          "name": "stdout",
          "output_type": "stream",
          "text": [
            "<class 'pandas.core.frame.DataFrame'>\n",
            "RangeIndex: 636149 entries, 0 to 636148\n",
            "Data columns (total 8 columns):\n",
            " #   Column            Non-Null Count   Dtype  \n",
            "---  ------            --------------   -----  \n",
            " 0   name              636149 non-null  object \n",
            " 1   region            636149 non-null  object \n",
            " 2   hub_lng           636149 non-null  float64\n",
            " 3   hub_lat           636149 non-null  float64\n",
            " 4   vehicle_capacity  636149 non-null  int64  \n",
            " 5   delivery_size     636149 non-null  int64  \n",
            " 6   delivery_lng      636149 non-null  float64\n",
            " 7   delivery_lat      636149 non-null  float64\n",
            "dtypes: float64(4), int64(2), object(2)\n",
            "memory usage: 38.8+ MB\n"
          ]
        }
      ],
      "source": [
        "# Informações ssobre os tipos de dados trabalhados e quantos valores nulos em cada coluna\n",
        "deliveries_df.info()"
      ]
    },
    {
      "cell_type": "code",
      "execution_count": 19,
      "metadata": {
        "id": "O4KhpPWNKOji"
      },
      "outputs": [
        {
          "data": {
            "text/html": [
              "<div>\n",
              "<style scoped>\n",
              "    .dataframe tbody tr th:only-of-type {\n",
              "        vertical-align: middle;\n",
              "    }\n",
              "\n",
              "    .dataframe tbody tr th {\n",
              "        vertical-align: top;\n",
              "    }\n",
              "\n",
              "    .dataframe thead th {\n",
              "        text-align: right;\n",
              "    }\n",
              "</style>\n",
              "<table border=\"1\" class=\"dataframe\">\n",
              "  <thead>\n",
              "    <tr style=\"text-align: right;\">\n",
              "      <th></th>\n",
              "      <th>count</th>\n",
              "      <th>unique</th>\n",
              "      <th>top</th>\n",
              "      <th>freq</th>\n",
              "    </tr>\n",
              "  </thead>\n",
              "  <tbody>\n",
              "    <tr>\n",
              "      <th>name</th>\n",
              "      <td>636149</td>\n",
              "      <td>199</td>\n",
              "      <td>cvrp-1-df-87</td>\n",
              "      <td>5636</td>\n",
              "    </tr>\n",
              "    <tr>\n",
              "      <th>region</th>\n",
              "      <td>636149</td>\n",
              "      <td>3</td>\n",
              "      <td>df-1</td>\n",
              "      <td>304708</td>\n",
              "    </tr>\n",
              "  </tbody>\n",
              "</table>\n",
              "</div>"
            ],
            "text/plain": [
              "         count unique           top    freq\n",
              "name    636149    199  cvrp-1-df-87    5636\n",
              "region  636149      3          df-1  304708"
            ]
          },
          "execution_count": 19,
          "metadata": {},
          "output_type": "execute_result"
        }
      ],
      "source": [
        "# Considerações sobre os valores em objeto do dataframe\n",
        "deliveries_df.select_dtypes(\"object\").describe().transpose()"
      ]
    },
    {
      "cell_type": "code",
      "execution_count": 20,
      "metadata": {
        "id": "WhW23yvIKWZe"
      },
      "outputs": [
        {
          "data": {
            "text/html": [
              "<div>\n",
              "<style scoped>\n",
              "    .dataframe tbody tr th:only-of-type {\n",
              "        vertical-align: middle;\n",
              "    }\n",
              "\n",
              "    .dataframe tbody tr th {\n",
              "        vertical-align: top;\n",
              "    }\n",
              "\n",
              "    .dataframe thead th {\n",
              "        text-align: right;\n",
              "    }\n",
              "</style>\n",
              "<table border=\"1\" class=\"dataframe\">\n",
              "  <thead>\n",
              "    <tr style=\"text-align: right;\">\n",
              "      <th></th>\n",
              "      <th>count</th>\n",
              "      <th>mean</th>\n",
              "      <th>std</th>\n",
              "      <th>min</th>\n",
              "      <th>25%</th>\n",
              "      <th>50%</th>\n",
              "      <th>75%</th>\n",
              "      <th>max</th>\n",
              "    </tr>\n",
              "  </thead>\n",
              "  <tbody>\n",
              "    <tr>\n",
              "      <th>vehicle_capacity</th>\n",
              "      <td>636149.0</td>\n",
              "      <td>180.000000</td>\n",
              "      <td>0.000000</td>\n",
              "      <td>180.0</td>\n",
              "      <td>180.0</td>\n",
              "      <td>180.0</td>\n",
              "      <td>180.0</td>\n",
              "      <td>180.0</td>\n",
              "    </tr>\n",
              "    <tr>\n",
              "      <th>delivery_size</th>\n",
              "      <td>636149.0</td>\n",
              "      <td>5.512111</td>\n",
              "      <td>2.874557</td>\n",
              "      <td>1.0</td>\n",
              "      <td>3.0</td>\n",
              "      <td>6.0</td>\n",
              "      <td>8.0</td>\n",
              "      <td>10.0</td>\n",
              "    </tr>\n",
              "  </tbody>\n",
              "</table>\n",
              "</div>"
            ],
            "text/plain": [
              "                     count        mean       std    min    25%    50%    75%   \n",
              "vehicle_capacity  636149.0  180.000000  0.000000  180.0  180.0  180.0  180.0  \\\n",
              "delivery_size     636149.0    5.512111  2.874557    1.0    3.0    6.0    8.0   \n",
              "\n",
              "                    max  \n",
              "vehicle_capacity  180.0  \n",
              "delivery_size      10.0  "
            ]
          },
          "execution_count": 20,
          "metadata": {},
          "output_type": "execute_result"
        }
      ],
      "source": [
        "# Informações numéricas das colunas com valores em int, como a média e os quartis.\n",
        "deliveries_df.drop([\"name\", \"region\"], axis=1).select_dtypes('int64').describe().transpose()"
      ]
    },
    {
      "cell_type": "code",
      "execution_count": 21,
      "metadata": {
        "id": "6rpooy2hKdsK"
      },
      "outputs": [
        {
          "data": {
            "text/plain": [
              "name                False\n",
              "region              False\n",
              "hub_lng             False\n",
              "hub_lat             False\n",
              "vehicle_capacity    False\n",
              "delivery_size       False\n",
              "delivery_lng        False\n",
              "delivery_lat        False\n",
              "dtype: bool"
            ]
          },
          "execution_count": 21,
          "metadata": {},
          "output_type": "execute_result"
        }
      ],
      "source": [
        "# Checagem para saber se há algum valor nulo não listado anteriormente\n",
        "deliveries_df.isna().any()"
      ]
    },
    {
      "attachments": {},
      "cell_type": "markdown",
      "metadata": {
        "id": "AFXvOrvJk8cG"
      },
      "source": [
        "## 4\\. Manipulação\n"
      ]
    },
    {
      "attachments": {},
      "cell_type": "markdown",
      "metadata": {
        "id": "m1RoUaZXntoA"
      },
      "source": [
        "Como a localização dos hubs e entregas está em Latitude e longitude, é possivel utilizar esses valores para encontrar outras informações, como bairro e cidade. Foi utilizado o geopy para as operações."
      ]
    },
    {
      "cell_type": "code",
      "execution_count": 22,
      "metadata": {
        "colab": {
          "base_uri": "https://localhost:8080/",
          "height": 143
        },
        "id": "9BqzjEL7lM1Q",
        "outputId": "e0cd236b-113a-4604-c8c4-7033de5234d7"
      },
      "outputs": [
        {
          "data": {
            "text/html": [
              "<div>\n",
              "<style scoped>\n",
              "    .dataframe tbody tr th:only-of-type {\n",
              "        vertical-align: middle;\n",
              "    }\n",
              "\n",
              "    .dataframe tbody tr th {\n",
              "        vertical-align: top;\n",
              "    }\n",
              "\n",
              "    .dataframe thead th {\n",
              "        text-align: right;\n",
              "    }\n",
              "</style>\n",
              "<table border=\"1\" class=\"dataframe\">\n",
              "  <thead>\n",
              "    <tr style=\"text-align: right;\">\n",
              "      <th></th>\n",
              "      <th>region</th>\n",
              "      <th>hub_lng</th>\n",
              "      <th>hub_lat</th>\n",
              "    </tr>\n",
              "  </thead>\n",
              "  <tbody>\n",
              "    <tr>\n",
              "      <th>0</th>\n",
              "      <td>df-0</td>\n",
              "      <td>-47.802665</td>\n",
              "      <td>-15.657014</td>\n",
              "    </tr>\n",
              "    <tr>\n",
              "      <th>1</th>\n",
              "      <td>df-1</td>\n",
              "      <td>-47.893662</td>\n",
              "      <td>-15.805118</td>\n",
              "    </tr>\n",
              "    <tr>\n",
              "      <th>2</th>\n",
              "      <td>df-2</td>\n",
              "      <td>-48.054989</td>\n",
              "      <td>-15.838145</td>\n",
              "    </tr>\n",
              "  </tbody>\n",
              "</table>\n",
              "</div>"
            ],
            "text/plain": [
              "  region    hub_lng    hub_lat\n",
              "0   df-0 -47.802665 -15.657014\n",
              "1   df-1 -47.893662 -15.805118\n",
              "2   df-2 -48.054989 -15.838145"
            ]
          },
          "execution_count": 22,
          "metadata": {},
          "output_type": "execute_result"
        }
      ],
      "source": [
        "# Primeiro é preciso separar os dados de latitude e longitude do hub\n",
        "hub_df = deliveries_df[[\"region\", \"hub_lng\", \"hub_lat\"]]\n",
        "hub_df = hub_df.drop_duplicates().sort_values(by=\"region\").reset_index(drop=True)\n",
        "hub_df.head()"
      ]
    },
    {
      "cell_type": "code",
      "execution_count": 23,
      "metadata": {
        "id": "a4IW3r4anDaX"
      },
      "outputs": [],
      "source": [
        "# Nominatim é uma open-source de OpenStreetMap data gratuito, porém por 1 solicitação por segundo\n",
        "geolocator = Nominatim(user_agent=\"ebac_geocoder\")\n",
        "geocoder = RateLimiter(geolocator.reverse, min_delay_seconds=1)"
      ]
    },
    {
      "cell_type": "code",
      "execution_count": 24,
      "metadata": {
        "id": "oIq9yL3AihUS"
      },
      "outputs": [],
      "source": [
        "# Concatenando as colunas 'hub_lat' e 'lub_lng' para que a variável geocoder possa encontrar as informações requeridas\n",
        "hub_df[\"coordinates\"] = hub_df[\"hub_lat\"].astype(str)  + \", \" + hub_df[\"hub_lng\"].astype(str) \n",
        "hub_df[\"geodata\"] = hub_df[\"coordinates\"].apply(geocoder)"
      ]
    },
    {
      "cell_type": "code",
      "execution_count": 25,
      "metadata": {
        "colab": {
          "base_uri": "https://localhost:8080/",
          "height": 410
        },
        "id": "VladtbNAqZ5X",
        "outputId": "24bfe4eb-5361-4184-f4a2-146937442197"
      },
      "outputs": [
        {
          "data": {
            "text/html": [
              "<div>\n",
              "<style scoped>\n",
              "    .dataframe tbody tr th:only-of-type {\n",
              "        vertical-align: middle;\n",
              "    }\n",
              "\n",
              "    .dataframe tbody tr th {\n",
              "        vertical-align: top;\n",
              "    }\n",
              "\n",
              "    .dataframe thead th {\n",
              "        text-align: right;\n",
              "    }\n",
              "</style>\n",
              "<table border=\"1\" class=\"dataframe\">\n",
              "  <thead>\n",
              "    <tr style=\"text-align: right;\">\n",
              "      <th></th>\n",
              "      <th>place_id</th>\n",
              "      <th>licence</th>\n",
              "      <th>osm_type</th>\n",
              "      <th>osm_id</th>\n",
              "      <th>lat</th>\n",
              "      <th>lon</th>\n",
              "      <th>display_name</th>\n",
              "      <th>boundingbox</th>\n",
              "      <th>address.amenity</th>\n",
              "      <th>address.road</th>\n",
              "      <th>...</th>\n",
              "      <th>address.ISO3166-2-lvl4</th>\n",
              "      <th>address.region</th>\n",
              "      <th>address.postcode</th>\n",
              "      <th>address.country</th>\n",
              "      <th>address.country_code</th>\n",
              "      <th>address.building</th>\n",
              "      <th>address.neighbourhood</th>\n",
              "      <th>address.city</th>\n",
              "      <th>address.shop</th>\n",
              "      <th>address.house_number</th>\n",
              "    </tr>\n",
              "  </thead>\n",
              "  <tbody>\n",
              "    <tr>\n",
              "      <th>0</th>\n",
              "      <td>69412345</td>\n",
              "      <td>Data © OpenStreetMap contributors, ODbL 1.0. h...</td>\n",
              "      <td>node</td>\n",
              "      <td>6456379935</td>\n",
              "      <td>-15.656819</td>\n",
              "      <td>-47.8019514</td>\n",
              "      <td>Clinica dos Olhos, Rua 7, Quadra 2, Sobradinho...</td>\n",
              "      <td>[-15.656869, -15.656769, -47.8020014, -47.8019...</td>\n",
              "      <td>Clinica dos Olhos</td>\n",
              "      <td>Rua 7</td>\n",
              "      <td>...</td>\n",
              "      <td>BR-DF</td>\n",
              "      <td>Região Centro-Oeste</td>\n",
              "      <td>73015-202</td>\n",
              "      <td>Brasil</td>\n",
              "      <td>br</td>\n",
              "      <td>NaN</td>\n",
              "      <td>NaN</td>\n",
              "      <td>NaN</td>\n",
              "      <td>NaN</td>\n",
              "      <td>NaN</td>\n",
              "    </tr>\n",
              "    <tr>\n",
              "      <th>1</th>\n",
              "      <td>138100732</td>\n",
              "      <td>Data © OpenStreetMap contributors, ODbL 1.0. h...</td>\n",
              "      <td>way</td>\n",
              "      <td>140908717</td>\n",
              "      <td>-15.80443735</td>\n",
              "      <td>-47.893155456691616</td>\n",
              "      <td>Bloco B / F, W1 Sul, SQS 103, Asa Sul, Brasíli...</td>\n",
              "      <td>[-15.805071, -15.8038038, -47.8937468, -47.892...</td>\n",
              "      <td>NaN</td>\n",
              "      <td>W1 Sul</td>\n",
              "      <td>...</td>\n",
              "      <td>BR-DF</td>\n",
              "      <td>Região Centro-Oeste</td>\n",
              "      <td>70342-010</td>\n",
              "      <td>Brasil</td>\n",
              "      <td>br</td>\n",
              "      <td>Bloco B / F</td>\n",
              "      <td>SQS 103</td>\n",
              "      <td>Brasília</td>\n",
              "      <td>NaN</td>\n",
              "      <td>NaN</td>\n",
              "    </tr>\n",
              "    <tr>\n",
              "      <th>2</th>\n",
              "      <td>67851385</td>\n",
              "      <td>Data © OpenStreetMap contributors, ODbL 1.0. h...</td>\n",
              "      <td>node</td>\n",
              "      <td>6249717596</td>\n",
              "      <td>-15.8384371</td>\n",
              "      <td>-48.0552917</td>\n",
              "      <td>Armazém do Bolo, lote 4/8, CSB 4/5, Taguatinga...</td>\n",
              "      <td>[-15.8384871, -15.8383871, -48.0553417, -48.05...</td>\n",
              "      <td>NaN</td>\n",
              "      <td>CSB 4/5</td>\n",
              "      <td>...</td>\n",
              "      <td>BR-DF</td>\n",
              "      <td>Região Centro-Oeste</td>\n",
              "      <td>72015-030</td>\n",
              "      <td>Brasil</td>\n",
              "      <td>br</td>\n",
              "      <td>NaN</td>\n",
              "      <td>NaN</td>\n",
              "      <td>Taguatinga</td>\n",
              "      <td>Armazém do Bolo</td>\n",
              "      <td>lote 4/8</td>\n",
              "    </tr>\n",
              "  </tbody>\n",
              "</table>\n",
              "<p>3 rows × 27 columns</p>\n",
              "</div>"
            ],
            "text/plain": [
              "    place_id                                            licence osm_type   \n",
              "0   69412345  Data © OpenStreetMap contributors, ODbL 1.0. h...     node  \\\n",
              "1  138100732  Data © OpenStreetMap contributors, ODbL 1.0. h...      way   \n",
              "2   67851385  Data © OpenStreetMap contributors, ODbL 1.0. h...     node   \n",
              "\n",
              "       osm_id           lat                  lon   \n",
              "0  6456379935    -15.656819          -47.8019514  \\\n",
              "1   140908717  -15.80443735  -47.893155456691616   \n",
              "2  6249717596   -15.8384371          -48.0552917   \n",
              "\n",
              "                                        display_name   \n",
              "0  Clinica dos Olhos, Rua 7, Quadra 2, Sobradinho...  \\\n",
              "1  Bloco B / F, W1 Sul, SQS 103, Asa Sul, Brasíli...   \n",
              "2  Armazém do Bolo, lote 4/8, CSB 4/5, Taguatinga...   \n",
              "\n",
              "                                         boundingbox    address.amenity   \n",
              "0  [-15.656869, -15.656769, -47.8020014, -47.8019...  Clinica dos Olhos  \\\n",
              "1  [-15.805071, -15.8038038, -47.8937468, -47.892...                NaN   \n",
              "2  [-15.8384871, -15.8383871, -48.0553417, -48.05...                NaN   \n",
              "\n",
              "  address.road  ... address.ISO3166-2-lvl4       address.region   \n",
              "0        Rua 7  ...                  BR-DF  Região Centro-Oeste  \\\n",
              "1       W1 Sul  ...                  BR-DF  Região Centro-Oeste   \n",
              "2      CSB 4/5  ...                  BR-DF  Região Centro-Oeste   \n",
              "\n",
              "  address.postcode address.country address.country_code address.building   \n",
              "0        73015-202          Brasil                   br              NaN  \\\n",
              "1        70342-010          Brasil                   br      Bloco B / F   \n",
              "2        72015-030          Brasil                   br              NaN   \n",
              "\n",
              "  address.neighbourhood address.city     address.shop address.house_number  \n",
              "0                   NaN          NaN              NaN                  NaN  \n",
              "1               SQS 103     Brasília              NaN                  NaN  \n",
              "2                   NaN   Taguatinga  Armazém do Bolo             lote 4/8  \n",
              "\n",
              "[3 rows x 27 columns]"
            ]
          },
          "execution_count": 25,
          "metadata": {},
          "output_type": "execute_result"
        }
      ],
      "source": [
        "# Novo dataframe apenas com as informações presentes na coluna 'geodata' do hub_df, normalizando os dados\n",
        "hub_geodata_df = pd.json_normalize(hub_df[\"geodata\"].apply(lambda data: data.raw))\n",
        "hub_geodata_df.head()"
      ]
    },
    {
      "cell_type": "code",
      "execution_count": 26,
      "metadata": {
        "colab": {
          "base_uri": "https://localhost:8080/",
          "height": 453
        },
        "id": "B0GaglFvrl7F",
        "outputId": "24c06059-91c4-4d67-ed47-9bd340f4178a"
      },
      "outputs": [
        {
          "data": {
            "text/html": [
              "<div>\n",
              "<style scoped>\n",
              "    .dataframe tbody tr th:only-of-type {\n",
              "        vertical-align: middle;\n",
              "    }\n",
              "\n",
              "    .dataframe tbody tr th {\n",
              "        vertical-align: top;\n",
              "    }\n",
              "\n",
              "    .dataframe thead th {\n",
              "        text-align: right;\n",
              "    }\n",
              "</style>\n",
              "<table border=\"1\" class=\"dataframe\">\n",
              "  <thead>\n",
              "    <tr style=\"text-align: right;\">\n",
              "      <th></th>\n",
              "      <th>hub_suburb</th>\n",
              "      <th>hub_city</th>\n",
              "    </tr>\n",
              "  </thead>\n",
              "  <tbody>\n",
              "    <tr>\n",
              "      <th>0</th>\n",
              "      <td>Sobradinho</td>\n",
              "      <td>Sobradinho</td>\n",
              "    </tr>\n",
              "    <tr>\n",
              "      <th>1</th>\n",
              "      <td>Asa Sul</td>\n",
              "      <td>Brasília</td>\n",
              "    </tr>\n",
              "    <tr>\n",
              "      <th>2</th>\n",
              "      <td>Taguatinga</td>\n",
              "      <td>Taguatinga</td>\n",
              "    </tr>\n",
              "  </tbody>\n",
              "</table>\n",
              "</div>"
            ],
            "text/plain": [
              "   hub_suburb    hub_city\n",
              "0  Sobradinho  Sobradinho\n",
              "1     Asa Sul    Brasília\n",
              "2  Taguatinga  Taguatinga"
            ]
          },
          "execution_count": 26,
          "metadata": {},
          "output_type": "execute_result"
        }
      ],
      "source": [
        "# Seleção das colunas de interesse e correção dos nomes das colunas para melhor vizualização\n",
        "hub_geodata_df = hub_geodata_df[[\"address.town\", \"address.suburb\", \"address.city\"]]\n",
        "hub_geodata_df.rename(columns={\"address.town\": \"hub_town\", \"address.suburb\": \"hub_suburb\", \"address.city\": \"hub_city\"}, inplace=True)\n",
        "\n",
        "# para hub_geodata_df[\"hub_suburb\"], se existir valor na coluna 'hub_city' mantém o valor. Senão, considere 'hub_town'\n",
        "hub_geodata_df[\"hub_city\"] = np.where(hub_geodata_df[\"hub_city\"].notna(), hub_geodata_df[\"hub_city\"], hub_geodata_df[\"hub_town\"])\n",
        "# para hub_geodata_df[\"hub_suburb\"], se existir valor na coluna 'hub_suburb' mantém o valor. Senão, considere 'hub_city'\n",
        "hub_geodata_df[\"hub_suburb\"] = np.where(hub_geodata_df[\"hub_suburb\"].notna(), hub_geodata_df[\"hub_suburb\"], hub_geodata_df[\"hub_city\"])\n",
        "# Remoção da coluna 'hub_town' por já ter conseguido os valores do bairro e cidade\n",
        "hub_geodata_df = hub_geodata_df.drop(\"hub_town\", axis=1)\n",
        "hub_geodata_df.head()"
      ]
    },
    {
      "cell_type": "code",
      "execution_count": 27,
      "metadata": {
        "colab": {
          "base_uri": "https://localhost:8080/",
          "height": 206
        },
        "id": "krd75NKBtTQE",
        "outputId": "3171de0e-b183-481d-c5be-f408cc87cda4"
      },
      "outputs": [
        {
          "data": {
            "text/html": [
              "<div>\n",
              "<style scoped>\n",
              "    .dataframe tbody tr th:only-of-type {\n",
              "        vertical-align: middle;\n",
              "    }\n",
              "\n",
              "    .dataframe tbody tr th {\n",
              "        vertical-align: top;\n",
              "    }\n",
              "\n",
              "    .dataframe thead th {\n",
              "        text-align: right;\n",
              "    }\n",
              "</style>\n",
              "<table border=\"1\" class=\"dataframe\">\n",
              "  <thead>\n",
              "    <tr style=\"text-align: right;\">\n",
              "      <th></th>\n",
              "      <th>name</th>\n",
              "      <th>region</th>\n",
              "      <th>hub_lng</th>\n",
              "      <th>hub_lat</th>\n",
              "      <th>hub_city</th>\n",
              "      <th>hub_suburb</th>\n",
              "      <th>vehicle_capacity</th>\n",
              "      <th>delivery_size</th>\n",
              "      <th>delivery_lng</th>\n",
              "      <th>delivery_lat</th>\n",
              "    </tr>\n",
              "  </thead>\n",
              "  <tbody>\n",
              "    <tr>\n",
              "      <th>0</th>\n",
              "      <td>cvrp-2-df-33</td>\n",
              "      <td>df-2</td>\n",
              "      <td>-48.054989</td>\n",
              "      <td>-15.838145</td>\n",
              "      <td>Taguatinga</td>\n",
              "      <td>Taguatinga</td>\n",
              "      <td>180</td>\n",
              "      <td>9</td>\n",
              "      <td>-48.116189</td>\n",
              "      <td>-15.848929</td>\n",
              "    </tr>\n",
              "    <tr>\n",
              "      <th>1</th>\n",
              "      <td>cvrp-2-df-33</td>\n",
              "      <td>df-2</td>\n",
              "      <td>-48.054989</td>\n",
              "      <td>-15.838145</td>\n",
              "      <td>Taguatinga</td>\n",
              "      <td>Taguatinga</td>\n",
              "      <td>180</td>\n",
              "      <td>2</td>\n",
              "      <td>-48.118195</td>\n",
              "      <td>-15.850772</td>\n",
              "    </tr>\n",
              "    <tr>\n",
              "      <th>2</th>\n",
              "      <td>cvrp-2-df-33</td>\n",
              "      <td>df-2</td>\n",
              "      <td>-48.054989</td>\n",
              "      <td>-15.838145</td>\n",
              "      <td>Taguatinga</td>\n",
              "      <td>Taguatinga</td>\n",
              "      <td>180</td>\n",
              "      <td>1</td>\n",
              "      <td>-48.112483</td>\n",
              "      <td>-15.847871</td>\n",
              "    </tr>\n",
              "    <tr>\n",
              "      <th>3</th>\n",
              "      <td>cvrp-2-df-33</td>\n",
              "      <td>df-2</td>\n",
              "      <td>-48.054989</td>\n",
              "      <td>-15.838145</td>\n",
              "      <td>Taguatinga</td>\n",
              "      <td>Taguatinga</td>\n",
              "      <td>180</td>\n",
              "      <td>2</td>\n",
              "      <td>-48.118023</td>\n",
              "      <td>-15.846471</td>\n",
              "    </tr>\n",
              "    <tr>\n",
              "      <th>4</th>\n",
              "      <td>cvrp-2-df-33</td>\n",
              "      <td>df-2</td>\n",
              "      <td>-48.054989</td>\n",
              "      <td>-15.838145</td>\n",
              "      <td>Taguatinga</td>\n",
              "      <td>Taguatinga</td>\n",
              "      <td>180</td>\n",
              "      <td>7</td>\n",
              "      <td>-48.114898</td>\n",
              "      <td>-15.858055</td>\n",
              "    </tr>\n",
              "  </tbody>\n",
              "</table>\n",
              "</div>"
            ],
            "text/plain": [
              "           name region    hub_lng    hub_lat    hub_city  hub_suburb   \n",
              "0  cvrp-2-df-33   df-2 -48.054989 -15.838145  Taguatinga  Taguatinga  \\\n",
              "1  cvrp-2-df-33   df-2 -48.054989 -15.838145  Taguatinga  Taguatinga   \n",
              "2  cvrp-2-df-33   df-2 -48.054989 -15.838145  Taguatinga  Taguatinga   \n",
              "3  cvrp-2-df-33   df-2 -48.054989 -15.838145  Taguatinga  Taguatinga   \n",
              "4  cvrp-2-df-33   df-2 -48.054989 -15.838145  Taguatinga  Taguatinga   \n",
              "\n",
              "   vehicle_capacity  delivery_size  delivery_lng  delivery_lat  \n",
              "0               180              9    -48.116189    -15.848929  \n",
              "1               180              2    -48.118195    -15.850772  \n",
              "2               180              1    -48.112483    -15.847871  \n",
              "3               180              2    -48.118023    -15.846471  \n",
              "4               180              7    -48.114898    -15.858055  "
            ]
          },
          "execution_count": 27,
          "metadata": {},
          "output_type": "execute_result"
        }
      ],
      "source": [
        "# Junta o hub_df com hub_geodata_df, mantendo apenas as coluans de interesse\n",
        "hub_df = pd.merge(left=hub_df, right=hub_geodata_df, left_index=True, right_index=True)\n",
        "hub_df = hub_df[[\"region\", \"hub_suburb\", \"hub_city\"]]\n",
        "# Agora juntar o deliveries_df com o hub_df, com base na coluna 'region' a relação e redefinindo a ordem das colunas\n",
        "deliveries_df = pd.merge(left=deliveries_df, right=hub_df, how=\"inner\", on=\"region\")\n",
        "deliveries_df = deliveries_df[[\"name\", \"region\", \"hub_lng\", \"hub_lat\", \"hub_city\", \"hub_suburb\", \"vehicle_capacity\", \"delivery_size\", \"delivery_lng\", \"delivery_lat\"]]\n",
        "deliveries_df.head()"
      ]
    },
    {
      "attachments": {},
      "cell_type": "markdown",
      "metadata": {
        "id": "SriEUX9R68qu"
      },
      "source": [
        "Como existem apenas 3 geolocalizações distintas no hubs no dataframe, porém com 636149 distintas para as entregas, demoraria muito para fazer a consulta pelo Nominatim. Por isso, será usado um link com o resultado para facilitar a análise."
      ]
    },
    {
      "cell_type": "code",
      "execution_count": 28,
      "metadata": {
        "colab": {
          "base_uri": "https://localhost:8080/",
          "height": 206
        },
        "id": "RxJXfE-2A75T",
        "outputId": "c330b559-7034-42ff-fc1f-e67be751d4df"
      },
      "outputs": [
        {
          "data": {
            "text/html": [
              "<div>\n",
              "<style scoped>\n",
              "    .dataframe tbody tr th:only-of-type {\n",
              "        vertical-align: middle;\n",
              "    }\n",
              "\n",
              "    .dataframe tbody tr th {\n",
              "        vertical-align: top;\n",
              "    }\n",
              "\n",
              "    .dataframe thead th {\n",
              "        text-align: right;\n",
              "    }\n",
              "</style>\n",
              "<table border=\"1\" class=\"dataframe\">\n",
              "  <thead>\n",
              "    <tr style=\"text-align: right;\">\n",
              "      <th></th>\n",
              "      <th>delivery_lng</th>\n",
              "      <th>delivery_lat</th>\n",
              "      <th>delivery_city</th>\n",
              "      <th>delivery_suburb</th>\n",
              "    </tr>\n",
              "  </thead>\n",
              "  <tbody>\n",
              "    <tr>\n",
              "      <th>0</th>\n",
              "      <td>-48.116189</td>\n",
              "      <td>-15.848929</td>\n",
              "      <td>Ceilândia</td>\n",
              "      <td>P Sul</td>\n",
              "    </tr>\n",
              "    <tr>\n",
              "      <th>1</th>\n",
              "      <td>-48.118195</td>\n",
              "      <td>-15.850772</td>\n",
              "      <td>Ceilândia</td>\n",
              "      <td>P Sul</td>\n",
              "    </tr>\n",
              "    <tr>\n",
              "      <th>2</th>\n",
              "      <td>-48.112483</td>\n",
              "      <td>-15.847871</td>\n",
              "      <td>Ceilândia</td>\n",
              "      <td>P Sul</td>\n",
              "    </tr>\n",
              "    <tr>\n",
              "      <th>3</th>\n",
              "      <td>-48.118023</td>\n",
              "      <td>-15.846471</td>\n",
              "      <td>Ceilândia</td>\n",
              "      <td>P Sul</td>\n",
              "    </tr>\n",
              "    <tr>\n",
              "      <th>4</th>\n",
              "      <td>-48.114898</td>\n",
              "      <td>-15.858055</td>\n",
              "      <td>Sol Nascente/Pôr do Sol</td>\n",
              "      <td>Sol Nascente/Pôr do Sol</td>\n",
              "    </tr>\n",
              "  </tbody>\n",
              "</table>\n",
              "</div>"
            ],
            "text/plain": [
              "   delivery_lng  delivery_lat            delivery_city   \n",
              "0    -48.116189    -15.848929                Ceilândia  \\\n",
              "1    -48.118195    -15.850772                Ceilândia   \n",
              "2    -48.112483    -15.847871                Ceilândia   \n",
              "3    -48.118023    -15.846471                Ceilândia   \n",
              "4    -48.114898    -15.858055  Sol Nascente/Pôr do Sol   \n",
              "\n",
              "           delivery_suburb  \n",
              "0                    P Sul  \n",
              "1                    P Sul  \n",
              "2                    P Sul  \n",
              "3                    P Sul  \n",
              "4  Sol Nascente/Pôr do Sol  "
            ]
          },
          "execution_count": 28,
          "metadata": {},
          "output_type": "execute_result"
        }
      ],
      "source": [
        "wget.download(\"https://raw.githubusercontent.com/andre-marcos-perez/ebac-course-utils/main/dataset/deliveries-geodata.csv\")\n",
        "deliveries_geodata_df = pd.read_csv('deliveries-geodata.csv')\n",
        "deliveries_geodata_df.head()"
      ]
    },
    {
      "cell_type": "code",
      "execution_count": 29,
      "metadata": {
        "colab": {
          "base_uri": "https://localhost:8080/",
          "height": 206
        },
        "id": "gsiHLnSCM_4x",
        "outputId": "eaa7650e-88be-4665-ceef-00fd1dd11d1b"
      },
      "outputs": [
        {
          "data": {
            "text/html": [
              "<div>\n",
              "<style scoped>\n",
              "    .dataframe tbody tr th:only-of-type {\n",
              "        vertical-align: middle;\n",
              "    }\n",
              "\n",
              "    .dataframe tbody tr th {\n",
              "        vertical-align: top;\n",
              "    }\n",
              "\n",
              "    .dataframe thead th {\n",
              "        text-align: right;\n",
              "    }\n",
              "</style>\n",
              "<table border=\"1\" class=\"dataframe\">\n",
              "  <thead>\n",
              "    <tr style=\"text-align: right;\">\n",
              "      <th></th>\n",
              "      <th>name</th>\n",
              "      <th>region</th>\n",
              "      <th>hub_lng</th>\n",
              "      <th>hub_lat</th>\n",
              "      <th>hub_city</th>\n",
              "      <th>hub_suburb</th>\n",
              "      <th>vehicle_capacity</th>\n",
              "      <th>delivery_size</th>\n",
              "      <th>delivery_lng</th>\n",
              "      <th>delivery_lat</th>\n",
              "      <th>delivery_city</th>\n",
              "      <th>delivery_suburb</th>\n",
              "    </tr>\n",
              "  </thead>\n",
              "  <tbody>\n",
              "    <tr>\n",
              "      <th>0</th>\n",
              "      <td>cvrp-2-df-33</td>\n",
              "      <td>df-2</td>\n",
              "      <td>-48.054989</td>\n",
              "      <td>-15.838145</td>\n",
              "      <td>Taguatinga</td>\n",
              "      <td>Taguatinga</td>\n",
              "      <td>180</td>\n",
              "      <td>9</td>\n",
              "      <td>-48.116189</td>\n",
              "      <td>-15.848929</td>\n",
              "      <td>Ceilândia</td>\n",
              "      <td>P Sul</td>\n",
              "    </tr>\n",
              "    <tr>\n",
              "      <th>1</th>\n",
              "      <td>cvrp-2-df-33</td>\n",
              "      <td>df-2</td>\n",
              "      <td>-48.054989</td>\n",
              "      <td>-15.838145</td>\n",
              "      <td>Taguatinga</td>\n",
              "      <td>Taguatinga</td>\n",
              "      <td>180</td>\n",
              "      <td>2</td>\n",
              "      <td>-48.118195</td>\n",
              "      <td>-15.850772</td>\n",
              "      <td>Ceilândia</td>\n",
              "      <td>P Sul</td>\n",
              "    </tr>\n",
              "    <tr>\n",
              "      <th>2</th>\n",
              "      <td>cvrp-2-df-33</td>\n",
              "      <td>df-2</td>\n",
              "      <td>-48.054989</td>\n",
              "      <td>-15.838145</td>\n",
              "      <td>Taguatinga</td>\n",
              "      <td>Taguatinga</td>\n",
              "      <td>180</td>\n",
              "      <td>1</td>\n",
              "      <td>-48.112483</td>\n",
              "      <td>-15.847871</td>\n",
              "      <td>Ceilândia</td>\n",
              "      <td>P Sul</td>\n",
              "    </tr>\n",
              "    <tr>\n",
              "      <th>3</th>\n",
              "      <td>cvrp-2-df-33</td>\n",
              "      <td>df-2</td>\n",
              "      <td>-48.054989</td>\n",
              "      <td>-15.838145</td>\n",
              "      <td>Taguatinga</td>\n",
              "      <td>Taguatinga</td>\n",
              "      <td>180</td>\n",
              "      <td>2</td>\n",
              "      <td>-48.118023</td>\n",
              "      <td>-15.846471</td>\n",
              "      <td>Ceilândia</td>\n",
              "      <td>P Sul</td>\n",
              "    </tr>\n",
              "    <tr>\n",
              "      <th>4</th>\n",
              "      <td>cvrp-2-df-33</td>\n",
              "      <td>df-2</td>\n",
              "      <td>-48.054989</td>\n",
              "      <td>-15.838145</td>\n",
              "      <td>Taguatinga</td>\n",
              "      <td>Taguatinga</td>\n",
              "      <td>180</td>\n",
              "      <td>7</td>\n",
              "      <td>-48.114898</td>\n",
              "      <td>-15.858055</td>\n",
              "      <td>Sol Nascente/Pôr do Sol</td>\n",
              "      <td>Sol Nascente/Pôr do Sol</td>\n",
              "    </tr>\n",
              "  </tbody>\n",
              "</table>\n",
              "</div>"
            ],
            "text/plain": [
              "           name region    hub_lng    hub_lat    hub_city  hub_suburb   \n",
              "0  cvrp-2-df-33   df-2 -48.054989 -15.838145  Taguatinga  Taguatinga  \\\n",
              "1  cvrp-2-df-33   df-2 -48.054989 -15.838145  Taguatinga  Taguatinga   \n",
              "2  cvrp-2-df-33   df-2 -48.054989 -15.838145  Taguatinga  Taguatinga   \n",
              "3  cvrp-2-df-33   df-2 -48.054989 -15.838145  Taguatinga  Taguatinga   \n",
              "4  cvrp-2-df-33   df-2 -48.054989 -15.838145  Taguatinga  Taguatinga   \n",
              "\n",
              "   vehicle_capacity  delivery_size  delivery_lng  delivery_lat   \n",
              "0               180              9    -48.116189    -15.848929  \\\n",
              "1               180              2    -48.118195    -15.850772   \n",
              "2               180              1    -48.112483    -15.847871   \n",
              "3               180              2    -48.118023    -15.846471   \n",
              "4               180              7    -48.114898    -15.858055   \n",
              "\n",
              "             delivery_city          delivery_suburb  \n",
              "0                Ceilândia                    P Sul  \n",
              "1                Ceilândia                    P Sul  \n",
              "2                Ceilândia                    P Sul  \n",
              "3                Ceilândia                    P Sul  \n",
              "4  Sol Nascente/Pôr do Sol  Sol Nascente/Pôr do Sol  "
            ]
          },
          "execution_count": 29,
          "metadata": {},
          "output_type": "execute_result"
        }
      ],
      "source": [
        "# Inclusão do deliveries_geodata_df no deliveries_df\n",
        "deliveries_df = pd.merge(left=deliveries_df, right=deliveries_geodata_df[[\"delivery_city\", \"delivery_suburb\"]], how=\"inner\", left_index=True, right_index=True)\n",
        "deliveries_df.head()"
      ]
    },
    {
      "attachments": {},
      "cell_type": "markdown",
      "metadata": {
        "id": "r-0WSGCttod6"
      },
      "source": [
        "Sobre a estrutura do deliveries_df depois de toda a atualização:"
      ]
    },
    {
      "cell_type": "code",
      "execution_count": 30,
      "metadata": {
        "id": "bzmux3NPG2ip"
      },
      "outputs": [
        {
          "data": {
            "text/plain": [
              "636149"
            ]
          },
          "execution_count": 30,
          "metadata": {},
          "output_type": "execute_result"
        }
      ],
      "source": [
        "len(deliveries_df)"
      ]
    },
    {
      "cell_type": "code",
      "execution_count": 31,
      "metadata": {
        "id": "COAI5wAstgpG"
      },
      "outputs": [
        {
          "name": "stdout",
          "output_type": "stream",
          "text": [
            "<class 'pandas.core.frame.DataFrame'>\n",
            "RangeIndex: 636149 entries, 0 to 636148\n",
            "Data columns (total 12 columns):\n",
            " #   Column            Non-Null Count   Dtype  \n",
            "---  ------            --------------   -----  \n",
            " 0   name              636149 non-null  object \n",
            " 1   region            636149 non-null  object \n",
            " 2   hub_lng           636149 non-null  float64\n",
            " 3   hub_lat           636149 non-null  float64\n",
            " 4   hub_city          636149 non-null  object \n",
            " 5   hub_suburb        636149 non-null  object \n",
            " 6   vehicle_capacity  636149 non-null  int64  \n",
            " 7   delivery_size     636149 non-null  int64  \n",
            " 8   delivery_lng      636149 non-null  float64\n",
            " 9   delivery_lat      636149 non-null  float64\n",
            " 10  delivery_city     634447 non-null  object \n",
            " 11  delivery_suburb   476264 non-null  object \n",
            "dtypes: float64(4), int64(2), object(6)\n",
            "memory usage: 58.2+ MB\n"
          ]
        }
      ],
      "source": [
        "# Aqui é possivel ver que há valores nulos em deliveries_df[\"delivery_city\"] e deliveries_df[\"delivery_suburb\"] \n",
        "deliveries_df.info()"
      ]
    },
    {
      "cell_type": "code",
      "execution_count": 32,
      "metadata": {
        "id": "UZ22uQU7tv2m"
      },
      "outputs": [
        {
          "data": {
            "text/plain": [
              "name                False\n",
              "region              False\n",
              "hub_lng             False\n",
              "hub_lat             False\n",
              "hub_city            False\n",
              "hub_suburb          False\n",
              "vehicle_capacity    False\n",
              "delivery_size       False\n",
              "delivery_lng        False\n",
              "delivery_lat        False\n",
              "delivery_city        True\n",
              "delivery_suburb      True\n",
              "dtype: bool"
            ]
          },
          "execution_count": 32,
          "metadata": {},
          "output_type": "execute_result"
        }
      ],
      "source": [
        "deliveries_df.isna().any()"
      ]
    },
    {
      "cell_type": "code",
      "execution_count": 33,
      "metadata": {
        "id": "SXRMqJ7rt6md"
      },
      "outputs": [
        {
          "data": {
            "text/plain": [
              "0.26754738276724477"
            ]
          },
          "execution_count": 33,
          "metadata": {},
          "output_type": "execute_result"
        }
      ],
      "source": [
        "100 * (deliveries_df[\"delivery_city\"].isna().sum() / len(deliveries_df))"
      ]
    },
    {
      "cell_type": "code",
      "execution_count": 34,
      "metadata": {
        "id": "fLEFvoqxuMeo"
      },
      "outputs": [
        {
          "data": {
            "text/plain": [
              "25.133262804783158"
            ]
          },
          "execution_count": 34,
          "metadata": {},
          "output_type": "execute_result"
        }
      ],
      "source": [
        "100 * (deliveries_df[\"delivery_suburb\"].isna().sum() / len(deliveries_df))"
      ]
    },
    {
      "cell_type": "code",
      "execution_count": 35,
      "metadata": {
        "id": "Zw6mhfEhyfeM"
      },
      "outputs": [
        {
          "data": {
            "text/plain": [
              "delivery_suburb \n",
              "Brasília            0.084564\n",
              "Asa Norte           0.076639\n",
              "Taguatinga          0.063363\n",
              "Asa Sul             0.059263\n",
              "Águas Claras        0.056598\n",
              "Guará               0.055619\n",
              "Samambaia           0.026514\n",
              "Sobradinho          0.018148\n",
              "Recanto das Emas    0.015029\n",
              "P Sul               0.012807\n",
              "Name: count, dtype: float64"
            ]
          },
          "execution_count": 35,
          "metadata": {},
          "output_type": "execute_result"
        }
      ],
      "source": [
        "prop_df = deliveries_df[[\"delivery_suburb\"]].value_counts() / len(deliveries_df)\n",
        "prop_df.sort_values(ascending=False).head(10)"
      ]
    },
    {
      "attachments": {},
      "cell_type": "markdown",
      "metadata": {
        "id": "Ljc60iBMlHMu"
      },
      "source": [
        "## 5\\. Visualização"
      ]
    },
    {
      "cell_type": "code",
      "execution_count": 36,
      "metadata": {},
      "outputs": [],
      "source": [
        "# Extração do mapa do distrito federal\n",
        "wget.download(\"https://geoftp.ibge.gov.br/cartas_e_mapas/bases_cartograficas_continuas/bc100/go_df/versao2016/shapefile/bc100_go_df_shp.zip\")\n",
        "with zipfile.ZipFile('./bc100_go_df_shp.zip', 'r') as zip:\n",
        "    zip.extractall('./all')"
      ]
    },
    {
      "cell_type": "code",
      "execution_count": 37,
      "metadata": {
        "colab": {
          "base_uri": "https://localhost:8080/",
          "height": 81
        },
        "id": "gN051IGxJpOD",
        "outputId": "1e6e05b9-cad5-4b8b-b529-0e6e1ce103d0"
      },
      "outputs": [
        {
          "data": {
            "text/html": [
              "<div>\n",
              "<style scoped>\n",
              "    .dataframe tbody tr th:only-of-type {\n",
              "        vertical-align: middle;\n",
              "    }\n",
              "\n",
              "    .dataframe tbody tr th {\n",
              "        vertical-align: top;\n",
              "    }\n",
              "\n",
              "    .dataframe thead th {\n",
              "        text-align: right;\n",
              "    }\n",
              "</style>\n",
              "<table border=\"1\" class=\"dataframe\">\n",
              "  <thead>\n",
              "    <tr style=\"text-align: right;\">\n",
              "      <th></th>\n",
              "      <th>ID_ANTIGO</th>\n",
              "      <th>NOME</th>\n",
              "      <th>NOMEABREV</th>\n",
              "      <th>GEOMETRIAA</th>\n",
              "      <th>SIGLA</th>\n",
              "      <th>GEOCODIGO</th>\n",
              "      <th>TX_COMENTA</th>\n",
              "      <th>ID_PRODUTO</th>\n",
              "      <th>ID_ELEMENT</th>\n",
              "      <th>geometry</th>\n",
              "    </tr>\n",
              "  </thead>\n",
              "  <tbody>\n",
              "    <tr>\n",
              "      <th>0</th>\n",
              "      <td>461</td>\n",
              "      <td>Distrito Federal</td>\n",
              "      <td>Distrito Federal</td>\n",
              "      <td>NaN</td>\n",
              "      <td>DF</td>\n",
              "      <td>53</td>\n",
              "      <td>NaN</td>\n",
              "      <td>NaN</td>\n",
              "      <td>NaN</td>\n",
              "      <td>POLYGON Z ((-47.31048 -16.03602 0.00000, -47.3...</td>\n",
              "    </tr>\n",
              "  </tbody>\n",
              "</table>\n",
              "</div>"
            ],
            "text/plain": [
              "   ID_ANTIGO              NOME         NOMEABREV  GEOMETRIAA SIGLA GEOCODIGO   \n",
              "0        461  Distrito Federal  Distrito Federal         NaN    DF        53  \\\n",
              "\n",
              "   TX_COMENTA  ID_PRODUTO  ID_ELEMENT   \n",
              "0         NaN         NaN         NaN  \\\n",
              "\n",
              "                                            geometry  \n",
              "0  POLYGON Z ((-47.31048 -16.03602 0.00000, -47.3...  "
            ]
          },
          "execution_count": 37,
          "metadata": {},
          "output_type": "execute_result"
        }
      ],
      "source": [
        "# Transformação do mapa em uma serie datapandas\n",
        "mapa = geopandas.read_file(\"./all/LIM_Unidade_Federacao_A.shp\")\n",
        "mapa = mapa.loc[[0]]\n",
        "mapa.head()"
      ]
    },
    {
      "cell_type": "code",
      "execution_count": 38,
      "metadata": {
        "colab": {
          "base_uri": "https://localhost:8080/",
          "height": 143
        },
        "id": "Z1IljuLxJpqP",
        "outputId": "d6d9aff1-9dc2-4cdb-ef9c-d6506d44f867"
      },
      "outputs": [
        {
          "data": {
            "text/html": [
              "<div>\n",
              "<style scoped>\n",
              "    .dataframe tbody tr th:only-of-type {\n",
              "        vertical-align: middle;\n",
              "    }\n",
              "\n",
              "    .dataframe tbody tr th {\n",
              "        vertical-align: top;\n",
              "    }\n",
              "\n",
              "    .dataframe thead th {\n",
              "        text-align: right;\n",
              "    }\n",
              "</style>\n",
              "<table border=\"1\" class=\"dataframe\">\n",
              "  <thead>\n",
              "    <tr style=\"text-align: right;\">\n",
              "      <th></th>\n",
              "      <th>region</th>\n",
              "      <th>hub_lng</th>\n",
              "      <th>hub_lat</th>\n",
              "      <th>geometry</th>\n",
              "    </tr>\n",
              "  </thead>\n",
              "  <tbody>\n",
              "    <tr>\n",
              "      <th>0</th>\n",
              "      <td>df-2</td>\n",
              "      <td>-48.054989</td>\n",
              "      <td>-15.838145</td>\n",
              "      <td>POINT (-48.05499 -15.83814)</td>\n",
              "    </tr>\n",
              "    <tr>\n",
              "      <th>1</th>\n",
              "      <td>df-1</td>\n",
              "      <td>-47.893662</td>\n",
              "      <td>-15.805118</td>\n",
              "      <td>POINT (-47.89366 -15.80512)</td>\n",
              "    </tr>\n",
              "    <tr>\n",
              "      <th>2</th>\n",
              "      <td>df-0</td>\n",
              "      <td>-47.802665</td>\n",
              "      <td>-15.657014</td>\n",
              "      <td>POINT (-47.80266 -15.65701)</td>\n",
              "    </tr>\n",
              "  </tbody>\n",
              "</table>\n",
              "</div>"
            ],
            "text/plain": [
              "  region    hub_lng    hub_lat                     geometry\n",
              "0   df-2 -48.054989 -15.838145  POINT (-48.05499 -15.83814)\n",
              "1   df-1 -47.893662 -15.805118  POINT (-47.89366 -15.80512)\n",
              "2   df-0 -47.802665 -15.657014  POINT (-47.80266 -15.65701)"
            ]
          },
          "execution_count": 38,
          "metadata": {},
          "output_type": "execute_result"
        }
      ],
      "source": [
        "# Definindo a localização dos 3 hubs da Loggi no eixo x e y do gráfico em GeoDataFrame\n",
        "hub_df = deliveries_df[[\"region\", \"hub_lng\", \"hub_lat\"]].drop_duplicates().reset_index(drop=True)\n",
        "geo_hub_df = geopandas.GeoDataFrame(hub_df, geometry=geopandas.points_from_xy(hub_df[\"hub_lng\"], hub_df[\"hub_lat\"]))\n",
        "geo_hub_df.head()"
      ]
    },
    {
      "cell_type": "code",
      "execution_count": 39,
      "metadata": {
        "colab": {
          "base_uri": "https://localhost:8080/",
          "height": 206
        },
        "id": "9C-d1A5sJsAb",
        "outputId": "adaaed89-42f1-4e6f-fb76-8493c2d3bb24"
      },
      "outputs": [
        {
          "data": {
            "text/html": [
              "<div>\n",
              "<style scoped>\n",
              "    .dataframe tbody tr th:only-of-type {\n",
              "        vertical-align: middle;\n",
              "    }\n",
              "\n",
              "    .dataframe tbody tr th {\n",
              "        vertical-align: top;\n",
              "    }\n",
              "\n",
              "    .dataframe thead th {\n",
              "        text-align: right;\n",
              "    }\n",
              "</style>\n",
              "<table border=\"1\" class=\"dataframe\">\n",
              "  <thead>\n",
              "    <tr style=\"text-align: right;\">\n",
              "      <th></th>\n",
              "      <th>name</th>\n",
              "      <th>region</th>\n",
              "      <th>hub_lng</th>\n",
              "      <th>hub_lat</th>\n",
              "      <th>hub_city</th>\n",
              "      <th>hub_suburb</th>\n",
              "      <th>vehicle_capacity</th>\n",
              "      <th>delivery_size</th>\n",
              "      <th>delivery_lng</th>\n",
              "      <th>delivery_lat</th>\n",
              "      <th>delivery_city</th>\n",
              "      <th>delivery_suburb</th>\n",
              "      <th>geometry</th>\n",
              "    </tr>\n",
              "  </thead>\n",
              "  <tbody>\n",
              "    <tr>\n",
              "      <th>0</th>\n",
              "      <td>cvrp-2-df-33</td>\n",
              "      <td>df-2</td>\n",
              "      <td>-48.054989</td>\n",
              "      <td>-15.838145</td>\n",
              "      <td>Taguatinga</td>\n",
              "      <td>Taguatinga</td>\n",
              "      <td>180</td>\n",
              "      <td>9</td>\n",
              "      <td>-48.116189</td>\n",
              "      <td>-15.848929</td>\n",
              "      <td>Ceilândia</td>\n",
              "      <td>P Sul</td>\n",
              "      <td>POINT (-48.11619 -15.84893)</td>\n",
              "    </tr>\n",
              "    <tr>\n",
              "      <th>1</th>\n",
              "      <td>cvrp-2-df-33</td>\n",
              "      <td>df-2</td>\n",
              "      <td>-48.054989</td>\n",
              "      <td>-15.838145</td>\n",
              "      <td>Taguatinga</td>\n",
              "      <td>Taguatinga</td>\n",
              "      <td>180</td>\n",
              "      <td>2</td>\n",
              "      <td>-48.118195</td>\n",
              "      <td>-15.850772</td>\n",
              "      <td>Ceilândia</td>\n",
              "      <td>P Sul</td>\n",
              "      <td>POINT (-48.11819 -15.85077)</td>\n",
              "    </tr>\n",
              "    <tr>\n",
              "      <th>2</th>\n",
              "      <td>cvrp-2-df-33</td>\n",
              "      <td>df-2</td>\n",
              "      <td>-48.054989</td>\n",
              "      <td>-15.838145</td>\n",
              "      <td>Taguatinga</td>\n",
              "      <td>Taguatinga</td>\n",
              "      <td>180</td>\n",
              "      <td>1</td>\n",
              "      <td>-48.112483</td>\n",
              "      <td>-15.847871</td>\n",
              "      <td>Ceilândia</td>\n",
              "      <td>P Sul</td>\n",
              "      <td>POINT (-48.11248 -15.84787)</td>\n",
              "    </tr>\n",
              "    <tr>\n",
              "      <th>3</th>\n",
              "      <td>cvrp-2-df-33</td>\n",
              "      <td>df-2</td>\n",
              "      <td>-48.054989</td>\n",
              "      <td>-15.838145</td>\n",
              "      <td>Taguatinga</td>\n",
              "      <td>Taguatinga</td>\n",
              "      <td>180</td>\n",
              "      <td>2</td>\n",
              "      <td>-48.118023</td>\n",
              "      <td>-15.846471</td>\n",
              "      <td>Ceilândia</td>\n",
              "      <td>P Sul</td>\n",
              "      <td>POINT (-48.11802 -15.84647)</td>\n",
              "    </tr>\n",
              "    <tr>\n",
              "      <th>4</th>\n",
              "      <td>cvrp-2-df-33</td>\n",
              "      <td>df-2</td>\n",
              "      <td>-48.054989</td>\n",
              "      <td>-15.838145</td>\n",
              "      <td>Taguatinga</td>\n",
              "      <td>Taguatinga</td>\n",
              "      <td>180</td>\n",
              "      <td>7</td>\n",
              "      <td>-48.114898</td>\n",
              "      <td>-15.858055</td>\n",
              "      <td>Sol Nascente/Pôr do Sol</td>\n",
              "      <td>Sol Nascente/Pôr do Sol</td>\n",
              "      <td>POINT (-48.11490 -15.85805)</td>\n",
              "    </tr>\n",
              "  </tbody>\n",
              "</table>\n",
              "</div>"
            ],
            "text/plain": [
              "           name region    hub_lng    hub_lat    hub_city  hub_suburb   \n",
              "0  cvrp-2-df-33   df-2 -48.054989 -15.838145  Taguatinga  Taguatinga  \\\n",
              "1  cvrp-2-df-33   df-2 -48.054989 -15.838145  Taguatinga  Taguatinga   \n",
              "2  cvrp-2-df-33   df-2 -48.054989 -15.838145  Taguatinga  Taguatinga   \n",
              "3  cvrp-2-df-33   df-2 -48.054989 -15.838145  Taguatinga  Taguatinga   \n",
              "4  cvrp-2-df-33   df-2 -48.054989 -15.838145  Taguatinga  Taguatinga   \n",
              "\n",
              "   vehicle_capacity  delivery_size  delivery_lng  delivery_lat   \n",
              "0               180              9    -48.116189    -15.848929  \\\n",
              "1               180              2    -48.118195    -15.850772   \n",
              "2               180              1    -48.112483    -15.847871   \n",
              "3               180              2    -48.118023    -15.846471   \n",
              "4               180              7    -48.114898    -15.858055   \n",
              "\n",
              "             delivery_city          delivery_suburb   \n",
              "0                Ceilândia                    P Sul  \\\n",
              "1                Ceilândia                    P Sul   \n",
              "2                Ceilândia                    P Sul   \n",
              "3                Ceilândia                    P Sul   \n",
              "4  Sol Nascente/Pôr do Sol  Sol Nascente/Pôr do Sol   \n",
              "\n",
              "                      geometry  \n",
              "0  POINT (-48.11619 -15.84893)  \n",
              "1  POINT (-48.11819 -15.85077)  \n",
              "2  POINT (-48.11248 -15.84787)  \n",
              "3  POINT (-48.11802 -15.84647)  \n",
              "4  POINT (-48.11490 -15.85805)  "
            ]
          },
          "execution_count": 39,
          "metadata": {},
          "output_type": "execute_result"
        }
      ],
      "source": [
        "# Definindo a localização de cada entrega dessa instancia da Loggi no eixo x e y do gráfico em GeoDataFrame\n",
        "geo_deliveries_df = geopandas.GeoDataFrame(deliveries_df, geometry=geopandas.points_from_xy(deliveries_df[\"delivery_lng\"], deliveries_df[\"delivery_lat\"]))\n",
        "geo_deliveries_df.head()"
      ]
    },
    {
      "cell_type": "code",
      "execution_count": 41,
      "metadata": {
        "colab": {
          "base_uri": "https://localhost:8080/",
          "height": 808
        },
        "id": "GwahyE07Jt8d",
        "outputId": "7b9c9318-de50-4ed1-fb9e-72d5876f475b"
      },
      "outputs": [
        {
          "data": {
            "image/png": "[encoded data removed]",
            "text/plain": [
              "<Figure size 1574.8x1574.8 with 1 Axes>"
            ]
          },
          "metadata": {},
          "output_type": "display_data"
        }
      ],
      "source": [
        "# cria o plot vazio\n",
        "fig, ax = plt.subplots(figsize = (40/2.54, 40/2.54))\n",
        "\n",
        "# plot mapa do distrito federal\n",
        "mapa.plot(ax=ax, alpha=0.4, color=\"lightgrey\")\n",
        "\n",
        "# plot das entregas\n",
        "geo_deliveries_df.query(\"region == 'df-0'\").plot(ax=ax, markersize=1, color=\"red\", label=\"df-0\")\n",
        "geo_deliveries_df.query(\"region == 'df-1'\").plot(ax=ax, markersize=1, color=\"blue\", label=\"df-1\")\n",
        "geo_deliveries_df.query(\"region == 'df-2'\").plot(ax=ax, markersize=1, color=\"seagreen\", label=\"df-2\")\n",
        "\n",
        "# plot dos hubs\n",
        "geo_hub_df.plot(ax=ax, markersize=30, marker=\"x\", color=\"black\", label=\"hub\")\n",
        "\n",
        "# plot da legenda\n",
        "plt.title(\"Entregas no Distrito Federal por Região\", fontdict={\"fontsize\": 16})\n",
        "lgnd = plt.legend(prop={\"size\": 15})\n",
        "for handle in lgnd.legend_handles:\n",
        "    handle.set_sizes([50])"
      ]
    },
    {
      "attachments": {},
      "cell_type": "markdown",
      "metadata": {
        "id": "3EyPivluANY8"
      },
      "source": [
        "Gerei também 4 gráficos. O primeiro é sobre a proporção de entregas por região, assim como o mapa demonstra. Os outros 3 são sobre valores como a quantidade média, minima e máxima de entregas por instância em cada região."
      ]
    },
    {
      "cell_type": "code",
      "execution_count": 114,
      "metadata": {
        "id": "Lq9DxURPJv3Z"
      },
      "outputs": [
        {
          "data": {
            "image/png": "[encoded data removed]",
            "text/plain": [
              "<Figure size 640x480 with 1 Axes>"
            ]
          },
          "metadata": {},
          "output_type": "display_data"
        }
      ],
      "source": [
        "# Gráfico de proporção de entregas por região\n",
        "\n",
        "data = pd.DataFrame(deliveries_df[['region', 'vehicle_capacity']].value_counts(normalize=True)).reset_index()\n",
        "data.rename(columns={'proportion': \"region_percent\", 0 : \"region_percent\"}, inplace=True)\n",
        "\n",
        "cores = {'df-0': 'red', 'df-1': 'blue', 'df-2': 'green'}\n",
        "\n",
        "with sns.axes_style('whitegrid'):\n",
        "  grafico = sns.barplot(data=data, x=\"region\", y=\"region_percent\", errorbar=None, palette=cores, color=cores.values(),width=0.5)\n",
        "  grafico.set(title='Proporção de entregas por região', xlabel='Regiões', ylabel='Proporção')"
      ]
    },
    {
      "cell_type": "code",
      "execution_count": 118,
      "metadata": {},
      "outputs": [
        {
          "data": {
            "image/png": "[encoded data removed]",
            "text/plain": [
              "<Figure size 640x480 with 1 Axes>"
            ]
          },
          "metadata": {},
          "output_type": "display_data"
        }
      ],
      "source": [
        "geo_deliveries_df = pd.DataFrame(geo_deliveries_df)\n",
        "\n",
        "df_region0 = geo_deliveries_df.loc[geo_deliveries_df['region'] == 'df-0']\n",
        "teste_df = pd.DataFrame(df_region0[['name','geometry','region']].groupby('name').count().sort_values(by='geometry').reset_index())\n",
        "teste_df = teste_df.describe().T.rename(columns = {'mean':'média'})\n",
        "teste_df = teste_df[['min','média','max',]].T.reset_index().rename(columns = {'index':'valores','geometry':'entregas'})\n",
        "\n",
        "with sns.axes_style('whitegrid'):\n",
        "  grafico = sns.barplot(data=teste_df, x=\"valores\", y=\"entregas\",errorbar=None,width=0.5,palette='Reds')\n",
        "  grafico.set(title='Quantidade de entregas por instância: DF-0', xlabel=None, ylabel='Nº de entregas');"
      ]
    },
    {
      "cell_type": "code",
      "execution_count": 116,
      "metadata": {},
      "outputs": [
        {
          "data": {
            "image/png": "[encoded data removed]",
            "text/plain": [
              "<Figure size 640x480 with 1 Axes>"
            ]
          },
          "metadata": {},
          "output_type": "display_data"
        }
      ],
      "source": [
        "df_region1 = geo_deliveries_df.loc[geo_deliveries_df['region'] == 'df-1']\n",
        "teste_df1 = pd.DataFrame(df_region1[['name','geometry','region']].groupby('name').count().sort_values(by='geometry').reset_index())\n",
        "teste_df1 = teste_df1.describe().T.rename(columns = {'mean':'média'})\n",
        "teste_df1 = teste_df1[['min','média','max',]].T.reset_index().rename(columns = {'index':'valores','geometry':'entregas'})\n",
        "\n",
        "with sns.axes_style('whitegrid'):\n",
        "  grafico = sns.barplot(data=teste_df1, x=\"valores\", y=\"entregas\", errorbar=None,width=0.5,palette='Blues')\n",
        "  grafico.set(title='Quantidade de entregas por instância: DF-1', xlabel=None, ylabel='Nº de entregas');"
      ]
    },
    {
      "cell_type": "code",
      "execution_count": 119,
      "metadata": {},
      "outputs": [
        {
          "data": {
            "image/png": "[encoded data removed]",
            "text/plain": [
              "<Figure size 640x480 with 1 Axes>"
            ]
          },
          "metadata": {},
          "output_type": "display_data"
        }
      ],
      "source": [
        "df_region2 = geo_deliveries_df.loc[geo_deliveries_df['region'] == 'df-2']\n",
        "teste_df2 = pd.DataFrame(df_region2[['name','geometry','region']].groupby('name').count().sort_values(by='geometry').reset_index())\n",
        "teste_df2 = teste_df2.describe().T.rename(columns = {'mean':'média'})\n",
        "teste_df2 = teste_df2[['min','média','max',]].T.reset_index().rename(columns = {'index':'valores','geometry':'entregas'})\n",
        "\n",
        "with sns.axes_style('whitegrid'):\n",
        "  grafico = sns.barplot(data=teste_df2, x=\"valores\", y=\"entregas\", errorbar=None,width=0.5,palette='Greens')\n",
        "  grafico.set(title='Quantidade de entregas por instância: DF-2', xlabel=None, ylabel='Nº de entregas');"
      ]
    },
    {
      "attachments": {},
      "cell_type": "markdown",
      "metadata": {},
      "source": [
        "## 6\\. Resultado\n"
      ]
    },
    {
      "attachments": {},
      "cell_type": "markdown",
      "metadata": {},
      "source": [
        "Pelo que é possivel ver pelos gráficos criados, a região DF-0 é onde tem menos entregas no geral. Isso se deve a questão topográfica da própria região de brasilia, pois a região DF-0 é onde a densidade populacional é bem menor comparada as outras regiões. Enquanto que a região DF-1 é a com maior número de entregas feitas, muito provavelmente por ser a região central.\n",
        "\n",
        "Também é possivel perceber que os dados da Loggi possuem poucos valores nulos no geral, o que não chegou a atrapalhar a análise."
      ]
    }
  ],
  "metadata": {
    "colab": {
      "provenance": []
    },
    "kernelspec": {
      "display_name": "Python 3",
      "name": "python3"
    },
    "language_info": {
      "codemirror_mode": {
        "name": "ipython",
        "version": 3
      },
      "file_extension": ".py",
      "mimetype": "text/x-python",
      "name": "python",
      "nbconvert_exporter": "python",
      "pygments_lexer": "ipython3",
      "version": "3.10.11"
    }
  },
  "nbformat": 4,
  "nbformat_minor": 0
}
