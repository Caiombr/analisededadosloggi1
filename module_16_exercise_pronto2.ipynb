{
  "cells": [
    {
      "attachments": {},
      "cell_type": "markdown",
      "metadata": {
        "id": "QRcqbpLpFK5o"
      },
      "source": [
        "# **Análise Exploratória de Dados de Logística**"
      ]
    },
    {
      "attachments": {},
      "cell_type": "markdown",
      "metadata": {
        "id": "6-CvdKwqFPiW"
      },
      "source": [
        "## 1\\. Contexto"
      ]
    },
    {
      "attachments": {},
      "cell_type": "markdown",
      "metadata": {
        "id": "XRURE1uUFXGw"
      },
      "source": [
        "A intenção por trás desse notebook é fazer uma análise exploratória de dados utilizando como base de dados o dataset da empresa Loggi, uma empresa grande de logística aqui do Brasil.\n",
        "\n",
        "Aqui faremos a exploração e uma breve manipulação dos dados para que seja possivel transformar um arquivo json em toda sua complexidade em um DataFrame pandas. "
      ]
    },
    {
      "attachments": {},
      "cell_type": "markdown",
      "metadata": {
        "id": "QxukLHaqFnkU"
      },
      "source": [
        "## 2\\. Pacotes e bibliotecas"
      ]
    },
    {
      "cell_type": "code",
      "execution_count": null,
      "metadata": {
        "colab": {
          "base_uri": "https://localhost:8080/"
        },
        "id": "tPtx21-qKTLy",
        "outputId": "613826ca-f4d9-405a-cca2-a22b8ed77107"
      },
      "outputs": [],
      "source": [
        "!pip install wget\n",
        "!pip3 install geopandas\n",
        "!pip install geopy"
      ]
    },
    {
      "cell_type": "code",
      "execution_count": null,
      "metadata": {
        "id": "VXUEW0VrF7XW"
      },
      "outputs": [],
      "source": [
        "import json\n",
        "\n",
        "import wget\n",
        "import pandas as pd\n",
        "import geopy\n",
        "from geopy.geocoders import Nominatim\n",
        "from geopy.extra.rate_limiter import RateLimiter\n",
        "import numpy as np\n",
        "import geopandas\n",
        "import seaborn as sns\n",
        "import matplotlib.pyplot as plt\n",
        "import zipfile"
      ]
    },
    {
      "attachments": {},
      "cell_type": "markdown",
      "metadata": {
        "id": "irQxHW1zGkdZ"
      },
      "source": [
        "## 3\\. Exploração de dados"
      ]
    },
    {
      "cell_type": "code",
      "execution_count": null,
      "metadata": {
        "id": "z_Gw8Ejh1sJC"
      },
      "outputs": [],
      "source": [
        "# Importação do arquivo .json da Loggi\n",
        "wget.download(\"https://raw.githubusercontent.com/andre-marcos-perez/ebac-course-utils/main/dataset/deliveries.json\")\n",
        "with open('deliveries.json', mode='r', encoding='utf8') as file:\n",
        "  data = json.load(file)"
      ]
    },
    {
      "attachments": {},
      "cell_type": "markdown",
      "metadata": {
        "id": "zU9CW8wUmofO"
      },
      "source": [
        "Na sequência, o próximo passo envolve  verificar a composição desse arquivo json, agora salvo na variavel data. Para isso, foi pego a primeira linha de cada coluna como amostra para melhor compreensão."
      ]
    },
    {
      "cell_type": "code",
      "execution_count": null,
      "metadata": {
        "id": "WUsNB2J-i6BK"
      },
      "outputs": [],
      "source": [
        "len(data)"
      ]
    },
    {
      "cell_type": "code",
      "execution_count": null,
      "metadata": {
        "colab": {
          "base_uri": "https://localhost:8080/",
          "height": 523
        },
        "id": "4juGsge0jHT9",
        "outputId": "d3c5cd7d-7d0e-4eb3-e1dc-04f77389fd8e"
      },
      "outputs": [],
      "source": [
        "example = data[0]"
      ]
    },
    {
      "cell_type": "code",
      "execution_count": null,
      "metadata": {
        "id": "GCVg79kKjlQF"
      },
      "outputs": [],
      "source": [
        "example['name']"
      ]
    },
    {
      "cell_type": "code",
      "execution_count": null,
      "metadata": {
        "id": "Cl0B4vtdmbQg"
      },
      "outputs": [],
      "source": [
        "example['region']"
      ]
    },
    {
      "cell_type": "code",
      "execution_count": null,
      "metadata": {
        "id": "H2zbwkfCmbG3"
      },
      "outputs": [],
      "source": [
        "example['origin']"
      ]
    },
    {
      "cell_type": "code",
      "execution_count": null,
      "metadata": {
        "id": "hTKt7r-8madG"
      },
      "outputs": [],
      "source": [
        "example['origin']['lat']"
      ]
    },
    {
      "cell_type": "code",
      "execution_count": null,
      "metadata": {
        "id": "C49zaYmomaMG"
      },
      "outputs": [],
      "source": [
        "example['vehicle_capacity']"
      ]
    },
    {
      "cell_type": "code",
      "execution_count": null,
      "metadata": {
        "id": "WFTHq7yVmi20"
      },
      "outputs": [],
      "source": [
        "example['deliveries'][0]['point']['lng']"
      ]
    },
    {
      "attachments": {},
      "cell_type": "markdown",
      "metadata": {
        "id": "ia2Oz2AKnVgO"
      },
      "source": [
        "Sabendo como está configurado o arquivo, transformaremos essa variavel data em um dataframe pandas."
      ]
    },
    {
      "cell_type": "code",
      "execution_count": null,
      "metadata": {
        "colab": {
          "base_uri": "https://localhost:8080/",
          "height": 423
        },
        "id": "-h2R7tZuje2N",
        "outputId": "d2f41c1e-cab6-4d25-dc1d-1426810a59fb"
      },
      "outputs": [],
      "source": [
        "deliveries_df = pd.DataFrame(data)\n",
        "deliveries_df"
      ]
    },
    {
      "attachments": {},
      "cell_type": "markdown",
      "metadata": {
        "id": "vIcEGhdjnmpJ"
      },
      "source": [
        "A primeira coluna a ser verificada foi a origin, pois ela ainda está em json.\n",
        "\n",
        "Então será executado uma sequência de comandos para que as informações de Latitude e Longitude do Hub, padrão universal de geolocalização, fiquem dispostas como dataframe pandas."
      ]
    },
    {
      "cell_type": "code",
      "execution_count": null,
      "metadata": {
        "id": "Uv6v0a72eoPx"
      },
      "outputs": [],
      "source": [
        "# Esse comando transforma a coluna 'origin' em um dataframe pandas.\n",
        "hub_origin_df = pd.json_normalize(deliveries_df[\"origin\"])\n",
        "\n",
        "# Comando para juntar o dataframe original 'deliveries_df' com o criado no passo anterior.\n",
        "deliveries_df = pd.merge(left=deliveries_df, right=hub_origin_df, how='inner', left_index=True, right_index=True)\n",
        "\n",
        "# Como a coluna 'origin' está em json e seus valores foram somados aos do dataframe original, é preciso deletar o 'origin' em json.\n",
        "deliveries_df = deliveries_df.drop(\"origin\", axis=1)\n",
        "\n",
        "# Reconfigurando o dataframe para a ordem e de disposição e nome das colunas de interesse.\n",
        "deliveries_df = deliveries_df[[\"name\", \"region\", \"lng\", \"lat\", \"vehicle_capacity\", \"deliveries\"]]\n",
        "deliveries_df.rename(columns={\"lng\": \"hub_lng\", \"lat\": \"hub_lat\"}, inplace=True)"
      ]
    },
    {
      "attachments": {},
      "cell_type": "markdown",
      "metadata": {
        "id": "s-A3jq71p0d1"
      },
      "source": [
        "Outra coluna que precisa ser padronizada no padrão do dataframe é a 'deliveries'. Como ela envolve uma lista, pois é referente as entregas de um único chamado e, por isso, possui mais de 1 linha, será preciso quebrar a lista e retirar as informações necessárias."
      ]
    },
    {
      "cell_type": "code",
      "execution_count": null,
      "metadata": {
        "id": "weydMDo9fQBZ"
      },
      "outputs": [],
      "source": [
        "# O comando explodes retira os elementos da lista, transformam eles em um dataframe.\n",
        "deliveries_exploded_df = deliveries_df[[\"deliveries\"]].explode(\"deliveries\")"
      ]
    },
    {
      "cell_type": "code",
      "execution_count": null,
      "metadata": {
        "id": "PpnZIOJOq7vr"
      },
      "outputs": [],
      "source": [
        "# Agora será criado um novo dataframe, apenas com os valores de interesse retirados do deliveries_exploded_df (tamanho, latitude e longitude do local de entrega). \n",
        "deliveries_normalized_df = pd.concat([\n",
        "  pd.DataFrame(deliveries_exploded_df[\"deliveries\"].apply(lambda x: x[\"size\"])).rename(columns={\"deliveries\": \"delivery_size\"}),\n",
        "  pd.DataFrame(deliveries_exploded_df[\"deliveries\"].apply(lambda x: x[\"point\"][\"lng\"])).rename(columns={\"deliveries\": \"delivery_lng\"}),\n",
        "  pd.DataFrame(deliveries_exploded_df[\"deliveries\"].apply(lambda x: x[\"point\"][\"lat\"])).rename(columns={\"deliveries\": \"delivery_lat\"}),\n",
        "], axis= 1)\n"
      ]
    },
    {
      "cell_type": "code",
      "execution_count": null,
      "metadata": {
        "colab": {
          "base_uri": "https://localhost:8080/",
          "height": 206
        },
        "id": "8DN5IK_MfjKk",
        "outputId": "2af28f19-ce9c-4198-95ce-e74cc5b6ff74"
      },
      "outputs": [],
      "source": [
        "# Então será removida a coluna 'deliveries' do dataframe 'deliveries_df' e incluido as colunas do 'deliveries_normalized_df'.\n",
        "deliveries_df = deliveries_df.drop(\"deliveries\", axis=1)\n",
        "deliveries_df = pd.merge(left=deliveries_df, right=deliveries_normalized_df, how='right', left_index=True, right_index=True)\n",
        "\n",
        "# Comando para resetar o index.\n",
        "deliveries_df.reset_index(inplace=True, drop=True)\n",
        "deliveries_df.head()"
      ]
    },
    {
      "attachments": {},
      "cell_type": "markdown",
      "metadata": {
        "id": "fG1BanonJCDh"
      },
      "source": [
        "Sobre a estrutura do dataframe:"
      ]
    },
    {
      "cell_type": "code",
      "execution_count": null,
      "metadata": {
        "id": "04nEBhk_JolQ"
      },
      "outputs": [],
      "source": [
        "# Tamanho do dataframe, linhas por colunas\n",
        "deliveries_df.shape"
      ]
    },
    {
      "cell_type": "code",
      "execution_count": null,
      "metadata": {
        "id": "5QFqh4yeJroP"
      },
      "outputs": [],
      "source": [
        "# Informações ssobre os tipos de dados trabalhados e quantos valores nulos em cada coluna\n",
        "deliveries_df.info()"
      ]
    },
    {
      "cell_type": "code",
      "execution_count": null,
      "metadata": {
        "id": "O4KhpPWNKOji"
      },
      "outputs": [],
      "source": [
        "# Considerações sobre os valores em objeto do dataframe\n",
        "deliveries_df.select_dtypes(\"object\").describe().transpose()"
      ]
    },
    {
      "cell_type": "code",
      "execution_count": null,
      "metadata": {
        "id": "WhW23yvIKWZe"
      },
      "outputs": [],
      "source": [
        "# Informações numéricas das colunas com valores em int, como a média e os quartis.\n",
        "deliveries_df.drop([\"name\", \"region\"], axis=1).select_dtypes('int64').describe().transpose()"
      ]
    },
    {
      "cell_type": "code",
      "execution_count": null,
      "metadata": {
        "id": "6rpooy2hKdsK"
      },
      "outputs": [],
      "source": [
        "# Checagem para saber se há algum valor nulo não listado anteriormente\n",
        "deliveries_df.isna().any()"
      ]
    },
    {
      "attachments": {},
      "cell_type": "markdown",
      "metadata": {
        "id": "AFXvOrvJk8cG"
      },
      "source": [
        "## 4\\. Manipulação\n"
      ]
    },
    {
      "attachments": {},
      "cell_type": "markdown",
      "metadata": {
        "id": "m1RoUaZXntoA"
      },
      "source": [
        "Como a localização dos hubs e entregas está em Latitude e longitude, é possivel utilizar esses valores para encontrar outras informações, como bairro e cidade. Foi utilizado o geopy para as operações."
      ]
    },
    {
      "cell_type": "code",
      "execution_count": null,
      "metadata": {
        "colab": {
          "base_uri": "https://localhost:8080/",
          "height": 143
        },
        "id": "9BqzjEL7lM1Q",
        "outputId": "e0cd236b-113a-4604-c8c4-7033de5234d7"
      },
      "outputs": [],
      "source": [
        "# Primeiro é preciso separar os dados de latitude e longitude do hub\n",
        "hub_df = deliveries_df[[\"region\", \"hub_lng\", \"hub_lat\"]]\n",
        "hub_df = hub_df.drop_duplicates().sort_values(by=\"region\").reset_index(drop=True)\n",
        "hub_df.head()"
      ]
    },
    {
      "cell_type": "code",
      "execution_count": null,
      "metadata": {
        "id": "a4IW3r4anDaX"
      },
      "outputs": [],
      "source": [
        "# Nominatim é uma open-source de OpenStreetMap data gratuito, porém por 1 solicitação por segundo\n",
        "geolocator = Nominatim(user_agent=\"ebac_geocoder\")\n",
        "geocoder = RateLimiter(geolocator.reverse, min_delay_seconds=1)"
      ]
    },
    {
      "cell_type": "code",
      "execution_count": null,
      "metadata": {
        "id": "oIq9yL3AihUS"
      },
      "outputs": [],
      "source": [
        "# Concatenando as colunas 'hub_lat' e 'lub_lng' para que a variável geocoder possa encontrar as informações requeridas\n",
        "hub_df[\"coordinates\"] = hub_df[\"hub_lat\"].astype(str)  + \", \" + hub_df[\"hub_lng\"].astype(str) \n",
        "hub_df[\"geodata\"] = hub_df[\"coordinates\"].apply(geocoder)"
      ]
    },
    {
      "cell_type": "code",
      "execution_count": null,
      "metadata": {
        "colab": {
          "base_uri": "https://localhost:8080/",
          "height": 410
        },
        "id": "VladtbNAqZ5X",
        "outputId": "24bfe4eb-5361-4184-f4a2-146937442197"
      },
      "outputs": [],
      "source": [
        "# Novo dataframe apenas com as informações presentes na coluna 'geodata' do hub_df, normalizando os dados\n",
        "hub_geodata_df = pd.json_normalize(hub_df[\"geodata\"].apply(lambda data: data.raw))\n",
        "hub_geodata_df.head()"
      ]
    },
    {
      "cell_type": "code",
      "execution_count": null,
      "metadata": {
        "colab": {
          "base_uri": "https://localhost:8080/",
          "height": 453
        },
        "id": "B0GaglFvrl7F",
        "outputId": "24c06059-91c4-4d67-ed47-9bd340f4178a"
      },
      "outputs": [],
      "source": [
        "# Seleção das colunas de interesse e correção dos nomes das colunas para melhor vizualização\n",
        "hub_geodata_df = hub_geodata_df[[\"address.town\", \"address.suburb\", \"address.city\"]]\n",
        "hub_geodata_df.rename(columns={\"address.town\": \"hub_town\", \"address.suburb\": \"hub_suburb\", \"address.city\": \"hub_city\"}, inplace=True)\n",
        "\n",
        "# para hub_geodata_df[\"hub_suburb\"], se existir valor na coluna 'hub_city' mantém o valor. Senão, considere 'hub_town'\n",
        "hub_geodata_df[\"hub_city\"] = np.where(hub_geodata_df[\"hub_city\"].notna(), hub_geodata_df[\"hub_city\"], hub_geodata_df[\"hub_town\"])\n",
        "# para hub_geodata_df[\"hub_suburb\"], se existir valor na coluna 'hub_suburb' mantém o valor. Senão, considere 'hub_city'\n",
        "hub_geodata_df[\"hub_suburb\"] = np.where(hub_geodata_df[\"hub_suburb\"].notna(), hub_geodata_df[\"hub_suburb\"], hub_geodata_df[\"hub_city\"])\n",
        "# Remoção da coluna 'hub_town' por já ter conseguido os valores do bairro e cidade\n",
        "hub_geodata_df = hub_geodata_df.drop(\"hub_town\", axis=1)\n",
        "hub_geodata_df.head()"
      ]
    },
    {
      "cell_type": "code",
      "execution_count": null,
      "metadata": {
        "colab": {
          "base_uri": "https://localhost:8080/",
          "height": 206
        },
        "id": "krd75NKBtTQE",
        "outputId": "3171de0e-b183-481d-c5be-f408cc87cda4"
      },
      "outputs": [],
      "source": [
        "# Junta o hub_df com hub_geodata_df, mantendo apenas as coluans de interesse\n",
        "hub_df = pd.merge(left=hub_df, right=hub_geodata_df, left_index=True, right_index=True)\n",
        "hub_df = hub_df[[\"region\", \"hub_suburb\", \"hub_city\"]]\n",
        "# Agora juntar o deliveries_df com o hub_df, com base na coluna 'region' a relação e redefinindo a ordem das colunas\n",
        "deliveries_df = pd.merge(left=deliveries_df, right=hub_df, how=\"inner\", on=\"region\")\n",
        "deliveries_df = deliveries_df[[\"name\", \"region\", \"hub_lng\", \"hub_lat\", \"hub_city\", \"hub_suburb\", \"vehicle_capacity\", \"delivery_size\", \"delivery_lng\", \"delivery_lat\"]]\n",
        "deliveries_df.head()"
      ]
    },
    {
      "attachments": {},
      "cell_type": "markdown",
      "metadata": {
        "id": "SriEUX9R68qu"
      },
      "source": [
        "Como existem apenas 3 geolocalizações distintas no hubs no dataframe, porém com 636149 distintas para as entregas, demoraria muito para fazer a consulta pelo Nominatim. Por isso, será usado um link com o resultado para facilitar a análise."
      ]
    },
    {
      "cell_type": "code",
      "execution_count": null,
      "metadata": {
        "colab": {
          "base_uri": "https://localhost:8080/",
          "height": 206
        },
        "id": "RxJXfE-2A75T",
        "outputId": "c330b559-7034-42ff-fc1f-e67be751d4df"
      },
      "outputs": [],
      "source": [
        "wget.download(\"https://raw.githubusercontent.com/andre-marcos-perez/ebac-course-utils/main/dataset/deliveries-geodata.csv\")\n",
        "deliveries_geodata_df = pd.read_csv('deliveries-geodata.csv')\n",
        "deliveries_geodata_df.head()"
      ]
    },
    {
      "cell_type": "code",
      "execution_count": null,
      "metadata": {
        "colab": {
          "base_uri": "https://localhost:8080/",
          "height": 206
        },
        "id": "gsiHLnSCM_4x",
        "outputId": "eaa7650e-88be-4665-ceef-00fd1dd11d1b"
      },
      "outputs": [],
      "source": [
        "# Inclusão do deliveries_geodata_df no deliveries_df\n",
        "deliveries_df = pd.merge(left=deliveries_df, right=deliveries_geodata_df[[\"delivery_city\", \"delivery_suburb\"]], how=\"inner\", left_index=True, right_index=True)\n",
        "deliveries_df.head()"
      ]
    },
    {
      "attachments": {},
      "cell_type": "markdown",
      "metadata": {
        "id": "r-0WSGCttod6"
      },
      "source": [
        "Sobre a estrutura do deliveries_df depois de toda a atualização:"
      ]
    },
    {
      "cell_type": "code",
      "execution_count": null,
      "metadata": {
        "id": "bzmux3NPG2ip"
      },
      "outputs": [],
      "source": [
        "len(deliveries_df)"
      ]
    },
    {
      "cell_type": "code",
      "execution_count": null,
      "metadata": {
        "id": "COAI5wAstgpG"
      },
      "outputs": [],
      "source": [
        "# Aqui é possivel ver que há valores nulos em deliveries_df[\"delivery_city\"] e deliveries_df[\"delivery_suburb\"] \n",
        "deliveries_df.info()"
      ]
    },
    {
      "cell_type": "code",
      "execution_count": null,
      "metadata": {
        "id": "UZ22uQU7tv2m"
      },
      "outputs": [],
      "source": [
        "deliveries_df.isna().any()"
      ]
    },
    {
      "cell_type": "code",
      "execution_count": null,
      "metadata": {
        "id": "SXRMqJ7rt6md"
      },
      "outputs": [],
      "source": [
        "100 * (deliveries_df[\"delivery_city\"].isna().sum() / len(deliveries_df))"
      ]
    },
    {
      "cell_type": "code",
      "execution_count": null,
      "metadata": {
        "id": "fLEFvoqxuMeo"
      },
      "outputs": [],
      "source": [
        "100 * (deliveries_df[\"delivery_suburb\"].isna().sum() / len(deliveries_df))"
      ]
    },
    {
      "cell_type": "code",
      "execution_count": null,
      "metadata": {
        "id": "Zw6mhfEhyfeM"
      },
      "outputs": [],
      "source": [
        "prop_df = deliveries_df[[\"delivery_suburb\"]].value_counts() / len(deliveries_df)\n",
        "prop_df.sort_values(ascending=False).head(10)"
      ]
    },
    {
      "attachments": {},
      "cell_type": "markdown",
      "metadata": {
        "id": "Ljc60iBMlHMu"
      },
      "source": [
        "## 5\\. Visualização"
      ]
    },
    {
      "cell_type": "code",
      "execution_count": null,
      "metadata": {},
      "outputs": [],
      "source": [
        "# Extração do mapa do distrito federal\n",
        "wget.download(\"https://geoftp.ibge.gov.br/cartas_e_mapas/bases_cartograficas_continuas/bc100/go_df/versao2016/shapefile/bc100_go_df_shp.zip\")\n",
        "with zipfile.ZipFile('./bc100_go_df_shp.zip', 'r') as zip:\n",
        "    zip.extractall('./all')"
      ]
    },
    {
      "cell_type": "code",
      "execution_count": null,
      "metadata": {
        "colab": {
          "base_uri": "https://localhost:8080/",
          "height": 81
        },
        "id": "gN051IGxJpOD",
        "outputId": "1e6e05b9-cad5-4b8b-b529-0e6e1ce103d0"
      },
      "outputs": [],
      "source": [
        "# Transformação do mapa em uma serie datapandas\n",
        "mapa = geopandas.read_file(\"./all/LIM_Unidade_Federacao_A.shp\")\n",
        "mapa = mapa.loc[[0]]\n",
        "mapa.head()"
      ]
    },
    {
      "cell_type": "code",
      "execution_count": null,
      "metadata": {
        "colab": {
          "base_uri": "https://localhost:8080/",
          "height": 143
        },
        "id": "Z1IljuLxJpqP",
        "outputId": "d6d9aff1-9dc2-4cdb-ef9c-d6506d44f867"
      },
      "outputs": [],
      "source": [
        "# Definindo a localização dos 3 hubs da Loggi no eixo x e y do gráfico em GeoDataFrame\n",
        "hub_df = deliveries_df[[\"region\", \"hub_lng\", \"hub_lat\"]].drop_duplicates().reset_index(drop=True)\n",
        "geo_hub_df = geopandas.GeoDataFrame(hub_df, geometry=geopandas.points_from_xy(hub_df[\"hub_lng\"], hub_df[\"hub_lat\"]))\n",
        "geo_hub_df.head()"
      ]
    },
    {
      "cell_type": "code",
      "execution_count": null,
      "metadata": {
        "colab": {
          "base_uri": "https://localhost:8080/",
          "height": 206
        },
        "id": "9C-d1A5sJsAb",
        "outputId": "adaaed89-42f1-4e6f-fb76-8493c2d3bb24"
      },
      "outputs": [],
      "source": [
        "# Definindo a localização de cada entrega dessa instancia da Loggi no eixo x e y do gráfico em GeoDataFrame\n",
        "geo_deliveries_df = geopandas.GeoDataFrame(deliveries_df, geometry=geopandas.points_from_xy(deliveries_df[\"delivery_lng\"], deliveries_df[\"delivery_lat\"]))\n",
        "geo_deliveries_df.head()"
      ]
    },
    {
      "cell_type": "code",
      "execution_count": null,
      "metadata": {
        "colab": {
          "base_uri": "https://localhost:8080/",
          "height": 808
        },
        "id": "GwahyE07Jt8d",
        "outputId": "7b9c9318-de50-4ed1-fb9e-72d5876f475b"
      },
      "outputs": [],
      "source": [
        "# cria o plot vazio\n",
        "fig, ax = plt.subplots(figsize = (40/2.54, 40/2.54))\n",
        "\n",
        "# plot mapa do distrito federal\n",
        "mapa.plot(ax=ax, alpha=0.4, color=\"lightgrey\")\n",
        "\n",
        "# plot das entregas\n",
        "geo_deliveries_df.query(\"region == 'df-0'\").plot(ax=ax, markersize=1, color=\"red\", label=\"df-0\")\n",
        "geo_deliveries_df.query(\"region == 'df-1'\").plot(ax=ax, markersize=1, color=\"blue\", label=\"df-1\")\n",
        "geo_deliveries_df.query(\"region == 'df-2'\").plot(ax=ax, markersize=1, color=\"seagreen\", label=\"df-2\")\n",
        "\n",
        "# plot dos hubs\n",
        "geo_hub_df.plot(ax=ax, markersize=30, marker=\"x\", color=\"black\", label=\"hub\")\n",
        "\n",
        "# plot da legenda\n",
        "plt.title(\"Entregas no Distrito Federal por Região\", fontdict={\"fontsize\": 16})\n",
        "lgnd = plt.legend(prop={\"size\": 15})\n",
        "for handle in lgnd.legend_handles:\n",
        "    handle.set_sizes([50])"
      ]
    },
    {
      "attachments": {},
      "cell_type": "markdown",
      "metadata": {
        "id": "3EyPivluANY8"
      },
      "source": [
        "Gerei também outros 5 gráficos. O primeiro é sobre a proporção de entregas por região, assim como o mapa demonstra. Os 3 são sobre valores como a quantidade média, minima e máxima de entregas por instância em cada região. O último é sobre qual cidade possui o maior indice de entregas."
      ]
    },
    {
      "cell_type": "code",
      "execution_count": null,
      "metadata": {
        "id": "Lq9DxURPJv3Z"
      },
      "outputs": [],
      "source": [
        "# Gráfico de proporção de entregas por região\n",
        "\n",
        "data = pd.DataFrame(deliveries_df[['region', 'vehicle_capacity']].value_counts(normalize=True)).reset_index()\n",
        "data.rename(columns={'proportion': \"region_percent\", 0 : \"region_percent\"}, inplace=True)\n",
        "\n",
        "cores = {'df-0': 'red', 'df-1': 'blue', 'df-2': 'green'}\n",
        "\n",
        "with sns.axes_style('whitegrid'):\n",
        "  grafico = sns.barplot(data=data, x=\"region\", y=\"region_percent\", errorbar=None, palette=cores, color=cores.values(),width=0.5)\n",
        "  grafico.set(title='Proporção de entregas por região', xlabel='Regiões', ylabel='Proporção')"
      ]
    },
    {
      "cell_type": "code",
      "execution_count": null,
      "metadata": {},
      "outputs": [],
      "source": [
        "geo_deliveries_df = pd.DataFrame(geo_deliveries_df)\n",
        "\n",
        "df_region0 = geo_deliveries_df.loc[geo_deliveries_df['region'] == 'df-0']\n",
        "teste_df = pd.DataFrame(df_region0[['name','geometry','region']].groupby('name').count().sort_values(by='geometry').reset_index())\n",
        "teste_df = teste_df.describe().T.rename(columns = {'mean':'média'})\n",
        "teste_df = teste_df[['min','média','max',]].T.reset_index().rename(columns = {'index':'valores','geometry':'entregas'})\n",
        "\n",
        "with sns.axes_style('whitegrid'):\n",
        "  grafico = sns.barplot(data=teste_df, x=\"valores\", y=\"entregas\",errorbar=None,width=0.5,palette='Reds')\n",
        "  grafico.set(title='Quantidade de entregas por instância: DF-0', xlabel=None, ylabel='Nº de entregas');\n"
      ]
    },
    {
      "cell_type": "code",
      "execution_count": null,
      "metadata": {},
      "outputs": [],
      "source": [
        "df_region1 = geo_deliveries_df.loc[geo_deliveries_df['region'] == 'df-1']\n",
        "teste_df1 = pd.DataFrame(df_region1[['name','geometry','region']].groupby('name').count().sort_values(by='geometry').reset_index())\n",
        "teste_df1 = teste_df1.describe().T.rename(columns = {'mean':'média'})\n",
        "teste_df1 = teste_df1[['min','média','max',]].T.reset_index().rename(columns = {'index':'valores','geometry':'entregas'})\n",
        "\n",
        "with sns.axes_style('whitegrid'):\n",
        "  grafico = sns.barplot(data=teste_df1, x=\"valores\", y=\"entregas\", errorbar=None,width=0.5,palette='Blues')\n",
        "  grafico.set(title='Quantidade de entregas por instância: DF-1', xlabel=None, ylabel='Nº de entregas');"
      ]
    },
    {
      "cell_type": "code",
      "execution_count": null,
      "metadata": {},
      "outputs": [],
      "source": [
        "df_region2 = geo_deliveries_df.loc[geo_deliveries_df['region'] == 'df-2']\n",
        "teste_df2 = pd.DataFrame(df_region2[['name','geometry','region']].groupby('name').count().sort_values(by='geometry').reset_index())\n",
        "teste_df2 = teste_df2.describe().T.rename(columns = {'mean':'média'})\n",
        "teste_df2 = teste_df2[['min','média','max',]].T.reset_index().rename(columns = {'index':'valores','geometry':'entregas'})\n",
        "\n",
        "with sns.axes_style('whitegrid'):\n",
        "  grafico = sns.barplot(data=teste_df2, x=\"valores\", y=\"entregas\", errorbar=None,width=0.5,palette='Greens')\n",
        "  grafico.set(title='Quantidade de entregas por instância: DF-2', xlabel=None, ylabel='Nº de entregas');"
      ]
    },
    {
      "cell_type": "code",
      "execution_count": null,
      "metadata": {},
      "outputs": [],
      "source": [
        "cidades_df = deliveries_df[['delivery_city']]\n",
        "cidades_df['quantidade'] = 1\n",
        "cidades_df = cidades_df.groupby('delivery_city').agg(sum).sort_values('quantidade', ascending=False).reset_index()\n",
        "top_cidades_df = top_cidades_df.head(10)\n",
        "\n",
        "\n",
        "with sns.axes_style('whitegrid'):\n",
        "  plt.figure(figsize=(15,5))\n",
        "  plt.grid(True)\n",
        "  grafico = sns.barplot(data=top_cidades_df, x=\"delivery_city\", y=\"quantidade\", errorbar=None,width=0.5)\n",
        "  grafico.set(title='Top 10 - Quantidade de entrega por cidades', xlabel=None, ylabel='Quantidade de entregas')"
      ]
    },
    {
      "attachments": {},
      "cell_type": "markdown",
      "metadata": {},
      "source": [
        "## 6\\. Resultado\n"
      ]
    },
    {
      "attachments": {},
      "cell_type": "markdown",
      "metadata": {},
      "source": [
        "Pelo que é possivel ver pelos gráficos criados, a região DF-0 é onde tem menos entregas no geral. Isso se deve a questão topográfica da própria região de brasilia, pois a região DF-0 é onde a densidade populacional é bem menor comparada as outras regiões. Enquanto que a região DF-1 é a com maior número de entregas feitas, muito provavelmente por ser a região central.\n",
        "\n",
        "Outro ponto a ser destacado é sobre as entregas que estão muito mais focadas em Brasilia comparado as outras cidades na região, demonstrando um acumulo de interesse na empresa na area mais central e que possivelmente o serviço de entrega seja melhro por isso.\n",
        "\n",
        "Também é possivel perceber que os dados da Loggi possuem poucos valores nulos no geral, o que não chegou a atrapalhar a análise."
      ]
    }
  ],
  "metadata": {
    "colab": {
      "provenance": []
    },
    "kernelspec": {
      "display_name": "Python 3",
      "name": "python3"
    },
    "language_info": {
      "codemirror_mode": {
        "name": "ipython",
        "version": 3
      },
      "file_extension": ".py",
      "mimetype": "text/x-python",
      "name": "python",
      "nbconvert_exporter": "python",
      "pygments_lexer": "ipython3",
      "version": "3.10.11"
    }
  },
  "nbformat": 4,
  "nbformat_minor": 0
}
